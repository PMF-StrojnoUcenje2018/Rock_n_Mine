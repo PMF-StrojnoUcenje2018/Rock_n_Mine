{
 "cells": [
  {
   "cell_type": "markdown",
   "metadata": {
    "deletable": true,
    "editable": true
   },
   "source": [
    "# Klasifikacija mina i kamenja u sonar datasetu "
   ]
  },
  {
   "cell_type": "markdown",
   "metadata": {
    "deletable": true,
    "editable": true
   },
   "source": [
    "### Autori: Alen Andrašek, Monika Majstorović, Luka Valenta "
   ]
  },
  {
   "cell_type": "markdown",
   "metadata": {
    "deletable": true,
    "editable": true
   },
   "source": [
    "Ovaj notebook napravljen je za potrebe kolegija Strojno učenje na PMF-u Sveučilišta u Zagrebu kao realizacija projektnog zadatka u akademskoj godini 2017./2018. "
   ]
  },
  {
   "cell_type": "markdown",
   "metadata": {
    "deletable": true,
    "editable": true
   },
   "source": [
    "Mentori:\n",
    "- Tomislav Šmuc, prof.\n",
    "- Tomislav Lipić, asist.\n",
    "- Matija Piškorec, asist."
   ]
  },
  {
   "cell_type": "markdown",
   "metadata": {
    "deletable": true,
    "editable": true
   },
   "source": [
    "Cilj ovog notebooka jest pokazati primjer metodologije pri odabiru modela, obradi podataka i općenito realizaciji projekta. Bit će koncipiran kao tutorijal za provedbu projekta \"od nule\" (tj. počevši od dataseta)."
   ]
  },
  {
   "cell_type": "markdown",
   "metadata": {
    "deletable": true,
    "editable": true
   },
   "source": [
    "Dataset kojeg koristimo naziva se Connectionist Bench (Sonar, Mines vs. Rocks) Data Set (skraćeno: sonar dataset) i skinut je s UCI repozitorija za strojno učenje."
   ]
  },
  {
   "cell_type": "markdown",
   "metadata": {
    "deletable": true,
    "editable": true
   },
   "source": [
    "##  1. O datasetu"
   ]
  },
  {
   "cell_type": "markdown",
   "metadata": {
    "deletable": true,
    "editable": true
   },
   "source": [
    "Prvo pitanje koje si postavljamo kada pred sobom imamo dataset jest: koji problem rješavamo pomoću ovog dataseta?\n",
    "\n",
    "U opisu sonar dataseta dostupnom na [ref] saznajemo da je za svaki uzorak u datasetu poznato radi li se o mini ili kamenu te da je zadatak klasifikacija podataka u te dvije skupine.\n",
    "Dakle, radi se o **nadziranom učenju** i problemu **binarne klasifikacije**."
   ]
  },
  {
   "cell_type": "markdown",
   "metadata": {
    "deletable": true,
    "editable": true
   },
   "source": [
    "Kako izgleda dataset?\n",
    "\n",
    "Iz [ref] također saznajemo da dataset sadrži 208 podataka. Svaki od njih ima 60 značajki čije su vrijednosti između 0.0 i 1.0 te oznaku klase 'R' ili 'M' ovisno o tome pripada li podatak kamenu ili mini. Ukupno ima 111 podataka koji pripadaju minama i 97 koji pripadaju kamenju. Nema vrijednosti koje nedostaju.\n",
    "\n",
    "Pokažimo kako bismo to ispitali koristeći pandas:"
   ]
  },
  {
   "cell_type": "code",
   "execution_count": 1,
   "metadata": {
    "collapsed": true,
    "deletable": true,
    "editable": true
   },
   "outputs": [],
   "source": [
    "import pandas as pd\n",
    "import matplotlib.pyplot as plt\n",
    "import numpy as np"
   ]
  },
  {
   "cell_type": "code",
   "execution_count": 2,
   "metadata": {
    "collapsed": false,
    "deletable": true,
    "editable": true
   },
   "outputs": [
    {
     "data": {
      "text/html": [
       "<div>\n",
       "<style>\n",
       "    .dataframe thead tr:only-child th {\n",
       "        text-align: right;\n",
       "    }\n",
       "\n",
       "    .dataframe thead th {\n",
       "        text-align: left;\n",
       "    }\n",
       "\n",
       "    .dataframe tbody tr th {\n",
       "        vertical-align: top;\n",
       "    }\n",
       "</style>\n",
       "<table border=\"1\" class=\"dataframe\">\n",
       "  <thead>\n",
       "    <tr style=\"text-align: right;\">\n",
       "      <th></th>\n",
       "      <th>1</th>\n",
       "      <th>2</th>\n",
       "      <th>3</th>\n",
       "      <th>4</th>\n",
       "      <th>5</th>\n",
       "      <th>6</th>\n",
       "      <th>7</th>\n",
       "      <th>8</th>\n",
       "      <th>9</th>\n",
       "      <th>10</th>\n",
       "      <th>...</th>\n",
       "      <th>52</th>\n",
       "      <th>53</th>\n",
       "      <th>54</th>\n",
       "      <th>55</th>\n",
       "      <th>56</th>\n",
       "      <th>57</th>\n",
       "      <th>58</th>\n",
       "      <th>59</th>\n",
       "      <th>60</th>\n",
       "      <th>Class</th>\n",
       "    </tr>\n",
       "  </thead>\n",
       "  <tbody>\n",
       "    <tr>\n",
       "      <th>0</th>\n",
       "      <td>0.0200</td>\n",
       "      <td>0.0371</td>\n",
       "      <td>0.0428</td>\n",
       "      <td>0.0207</td>\n",
       "      <td>0.0954</td>\n",
       "      <td>0.0986</td>\n",
       "      <td>0.1539</td>\n",
       "      <td>0.1601</td>\n",
       "      <td>0.3109</td>\n",
       "      <td>0.2111</td>\n",
       "      <td>...</td>\n",
       "      <td>0.0027</td>\n",
       "      <td>0.0065</td>\n",
       "      <td>0.0159</td>\n",
       "      <td>0.0072</td>\n",
       "      <td>0.0167</td>\n",
       "      <td>0.0180</td>\n",
       "      <td>0.0084</td>\n",
       "      <td>0.0090</td>\n",
       "      <td>0.0032</td>\n",
       "      <td>R</td>\n",
       "    </tr>\n",
       "    <tr>\n",
       "      <th>1</th>\n",
       "      <td>0.0453</td>\n",
       "      <td>0.0523</td>\n",
       "      <td>0.0843</td>\n",
       "      <td>0.0689</td>\n",
       "      <td>0.1183</td>\n",
       "      <td>0.2583</td>\n",
       "      <td>0.2156</td>\n",
       "      <td>0.3481</td>\n",
       "      <td>0.3337</td>\n",
       "      <td>0.2872</td>\n",
       "      <td>...</td>\n",
       "      <td>0.0084</td>\n",
       "      <td>0.0089</td>\n",
       "      <td>0.0048</td>\n",
       "      <td>0.0094</td>\n",
       "      <td>0.0191</td>\n",
       "      <td>0.0140</td>\n",
       "      <td>0.0049</td>\n",
       "      <td>0.0052</td>\n",
       "      <td>0.0044</td>\n",
       "      <td>R</td>\n",
       "    </tr>\n",
       "    <tr>\n",
       "      <th>2</th>\n",
       "      <td>0.0262</td>\n",
       "      <td>0.0582</td>\n",
       "      <td>0.1099</td>\n",
       "      <td>0.1083</td>\n",
       "      <td>0.0974</td>\n",
       "      <td>0.2280</td>\n",
       "      <td>0.2431</td>\n",
       "      <td>0.3771</td>\n",
       "      <td>0.5598</td>\n",
       "      <td>0.6194</td>\n",
       "      <td>...</td>\n",
       "      <td>0.0232</td>\n",
       "      <td>0.0166</td>\n",
       "      <td>0.0095</td>\n",
       "      <td>0.0180</td>\n",
       "      <td>0.0244</td>\n",
       "      <td>0.0316</td>\n",
       "      <td>0.0164</td>\n",
       "      <td>0.0095</td>\n",
       "      <td>0.0078</td>\n",
       "      <td>R</td>\n",
       "    </tr>\n",
       "    <tr>\n",
       "      <th>3</th>\n",
       "      <td>0.0100</td>\n",
       "      <td>0.0171</td>\n",
       "      <td>0.0623</td>\n",
       "      <td>0.0205</td>\n",
       "      <td>0.0205</td>\n",
       "      <td>0.0368</td>\n",
       "      <td>0.1098</td>\n",
       "      <td>0.1276</td>\n",
       "      <td>0.0598</td>\n",
       "      <td>0.1264</td>\n",
       "      <td>...</td>\n",
       "      <td>0.0121</td>\n",
       "      <td>0.0036</td>\n",
       "      <td>0.0150</td>\n",
       "      <td>0.0085</td>\n",
       "      <td>0.0073</td>\n",
       "      <td>0.0050</td>\n",
       "      <td>0.0044</td>\n",
       "      <td>0.0040</td>\n",
       "      <td>0.0117</td>\n",
       "      <td>R</td>\n",
       "    </tr>\n",
       "    <tr>\n",
       "      <th>4</th>\n",
       "      <td>0.0762</td>\n",
       "      <td>0.0666</td>\n",
       "      <td>0.0481</td>\n",
       "      <td>0.0394</td>\n",
       "      <td>0.0590</td>\n",
       "      <td>0.0649</td>\n",
       "      <td>0.1209</td>\n",
       "      <td>0.2467</td>\n",
       "      <td>0.3564</td>\n",
       "      <td>0.4459</td>\n",
       "      <td>...</td>\n",
       "      <td>0.0031</td>\n",
       "      <td>0.0054</td>\n",
       "      <td>0.0105</td>\n",
       "      <td>0.0110</td>\n",
       "      <td>0.0015</td>\n",
       "      <td>0.0072</td>\n",
       "      <td>0.0048</td>\n",
       "      <td>0.0107</td>\n",
       "      <td>0.0094</td>\n",
       "      <td>R</td>\n",
       "    </tr>\n",
       "  </tbody>\n",
       "</table>\n",
       "<p>5 rows × 61 columns</p>\n",
       "</div>"
      ],
      "text/plain": [
       "        1       2       3       4       5       6       7       8       9  \\\n",
       "0  0.0200  0.0371  0.0428  0.0207  0.0954  0.0986  0.1539  0.1601  0.3109   \n",
       "1  0.0453  0.0523  0.0843  0.0689  0.1183  0.2583  0.2156  0.3481  0.3337   \n",
       "2  0.0262  0.0582  0.1099  0.1083  0.0974  0.2280  0.2431  0.3771  0.5598   \n",
       "3  0.0100  0.0171  0.0623  0.0205  0.0205  0.0368  0.1098  0.1276  0.0598   \n",
       "4  0.0762  0.0666  0.0481  0.0394  0.0590  0.0649  0.1209  0.2467  0.3564   \n",
       "\n",
       "       10  ...        52      53      54      55      56      57      58  \\\n",
       "0  0.2111  ...    0.0027  0.0065  0.0159  0.0072  0.0167  0.0180  0.0084   \n",
       "1  0.2872  ...    0.0084  0.0089  0.0048  0.0094  0.0191  0.0140  0.0049   \n",
       "2  0.6194  ...    0.0232  0.0166  0.0095  0.0180  0.0244  0.0316  0.0164   \n",
       "3  0.1264  ...    0.0121  0.0036  0.0150  0.0085  0.0073  0.0050  0.0044   \n",
       "4  0.4459  ...    0.0031  0.0054  0.0105  0.0110  0.0015  0.0072  0.0048   \n",
       "\n",
       "       59      60  Class  \n",
       "0  0.0090  0.0032      R  \n",
       "1  0.0052  0.0044      R  \n",
       "2  0.0095  0.0078      R  \n",
       "3  0.0040  0.0117      R  \n",
       "4  0.0107  0.0094      R  \n",
       "\n",
       "[5 rows x 61 columns]"
      ]
     },
     "execution_count": 2,
     "metadata": {},
     "output_type": "execute_result"
    }
   ],
   "source": [
    "# Učitamo dataset i dodijelimo imena stupcima\n",
    "\n",
    "url = \"https://archive.ics.uci.edu/ml/machine-learning-databases/undocumented/connectionist-bench/sonar/sonar.all-data\"\n",
    "\n",
    "colNames = []\n",
    "for i in range(60):\n",
    "    colNames.append(i+1)\n",
    "colNames.append(\"Class\")\n",
    "\n",
    "sonar = pd.read_csv(url,names=colNames,header=None)\n",
    "sonar.head()"
   ]
  },
  {
   "cell_type": "code",
   "execution_count": 3,
   "metadata": {
    "collapsed": false,
    "deletable": true,
    "editable": true,
    "scrolled": true
   },
   "outputs": [
    {
     "data": {
      "text/plain": [
       "(208, 61)"
      ]
     },
     "execution_count": 3,
     "metadata": {},
     "output_type": "execute_result"
    }
   ],
   "source": [
    "sonar.shape  # Dataframe ima 208 redaka i 61 stupac."
   ]
  },
  {
   "cell_type": "code",
   "execution_count": 4,
   "metadata": {
    "collapsed": false,
    "deletable": true,
    "editable": true
   },
   "outputs": [
    {
     "data": {
      "text/plain": [
       "1    float64\n",
       "2    float64\n",
       "3    float64\n",
       "4    float64\n",
       "5    float64\n",
       "dtype: object"
      ]
     },
     "execution_count": 4,
     "metadata": {},
     "output_type": "execute_result"
    }
   ],
   "source": [
    "sonar.dtypes.head()  #Tipovi podataka u dataframeu."
   ]
  },
  {
   "cell_type": "code",
   "execution_count": 5,
   "metadata": {
    "collapsed": false,
    "deletable": true,
    "editable": true
   },
   "outputs": [
    {
     "data": {
      "text/plain": [
       "Class\n",
       "M    111\n",
       "R     97\n",
       "dtype: int64"
      ]
     },
     "execution_count": 5,
     "metadata": {},
     "output_type": "execute_result"
    }
   ],
   "source": [
    "sonar.groupby('Class').size()  # Želimo saznati koliko ima podataka određene klase."
   ]
  },
  {
   "cell_type": "code",
   "execution_count": 6,
   "metadata": {
    "collapsed": false,
    "deletable": true,
    "editable": true
   },
   "outputs": [
    {
     "data": {
      "text/plain": [
       "False"
      ]
     },
     "execution_count": 6,
     "metadata": {},
     "output_type": "execute_result"
    }
   ],
   "source": [
    "sonar.isnull().any().any()  # Ima li vrijednosti koje nedostaju?"
   ]
  },
  {
   "cell_type": "markdown",
   "metadata": {
    "deletable": true,
    "editable": true
   },
   "source": [
    "Sonar dataset je mali. Kod malih datasetova veći problem nego kod velikih datasetova mogu prestavljati:\n",
    "-  vrijednosti koje nedostaju\n",
    "-  buka\n",
    "-  overfitting\n",
    "\n",
    "Više o načinu pristupa malim datasetovima u strojnom učenju pročitajte u članku [ref].\n",
    "\n",
    "Već smo pokazali da nema vrijednosti koje nedostaju u sonar datasetu.\n",
    "\n",
    "Pretpostavljamo da je buka u datasetu minimalna zbog načina prikupljanja i obrade podataka prije nego što su ušli u dataset. Naime, podaci su skupljeni tako što su na pjeskovito morsko dno stavljeni metalni cilindar i kamenje otprilike\n",
    "cilindričnog oblika, oboje duljine oko 1.52 m (5 ft) te je pomoću sonara emitiran signal. Jeka je prikupljena s udaljenosti 10 m te iz kuteva raspona do 90° za cilindar i raspona do 180° za kamen. **Od 1200 primljenih zvukova, odabrano ih je 208 koji su imali omjer šuma i signala između 4 dB i 15 dB.** Daljnjom spektralnom analizom signala te normalizacijom dobivenih podataka svaki od 208 signala predstavljen je konačno 60-dimenzionalnim vektorom u kojem svaka komponenta poprima vrijednosti između 0.0 i 1.0.\n",
    "\n",
    "Za rješavanje problema overfittinga preporučuje se odabir jednostavnijih modela poput logističke regresije, k-Nearest Neighbours (k-NN), Support Vector Machine (SVM), Random Forest (dodati još, ne sjećam se). \n",
    "\n",
    "Mi smo odabrali SVM i k-NN. Njihov performans na kraju ćemo usporediti.\n",
    "\n"
   ]
  },
  {
   "cell_type": "code",
   "execution_count": 7,
   "metadata": {
    "collapsed": false,
    "deletable": true,
    "editable": true
   },
   "outputs": [],
   "source": [
    "# Koreliranost klasa\n",
    "rock = sonar.loc[ sonar['Class'] == 'R', : ]\n",
    "mine = sonar.loc[ sonar['Class'] == 'M', : ]\n",
    "\n",
    "fig, axes = plt.subplots(30, 2, figsize=(50,50))\n",
    "ax = axes.ravel() # axes are 2-dimensional so we unfold them\n",
    "for i in range(60):\n",
    "    _, bins = np.histogram(sonar.iloc[:,i], bins=30)\n",
    "    ax[i].hist(rock.iloc[:,i], bins=bins, color='r', alpha=.5, label='rock')\n",
    "    ax[i].hist(mine.iloc[:,i], bins=bins, color='b', alpha=.5, label='mine')\n",
    "    ax[i].set_title(sonar.columns.values[i])\n",
    "    ax[i].set_yticks(()) # remove ticks on y-axis\n",
    "    ax[i].legend(loc='upper right')\n",
    "fig.tight_layout();"
   ]
  },
  {
   "cell_type": "markdown",
   "metadata": {
    "deletable": true,
    "editable": true
   },
   "source": [
    "Nećemo vršiti standardizaciju podataka prije PCA jer su nam podaci istog tipa i u istoj mjernoj jedinici.\n",
    "[ref = https://www.researchgate.net/post/What_is_the_best_way_to_scale_parameters_before_running_a_Principal_Component_Analysis_PCA]"
   ]
  },
  {
   "cell_type": "code",
   "execution_count": 8,
   "metadata": {
    "collapsed": false,
    "deletable": true,
    "editable": true
   },
   "outputs": [],
   "source": [
    "sonar_y = [] # target array (niz čiji elementi govore je li odgovarajući element tog indexa u datasetu sonar R ili M)\n",
    "for i in range(97):\n",
    "    sonar_y.append(0) # 0 označavaju R\n",
    "for i in range(111):\n",
    "    sonar_y.append(1) # 1 označavaju M\n",
    "sonar_y = np.array(sonar_y)\n",
    "\n",
    "sonar_bez_Class = sonar.drop('Class', axis=1) # uklonimo zadnji stupac Class iz sonar dataframea\n",
    "sonar_X = np.array(sonar_bez_Class.values)\n",
    "\n",
    "# sonar_y i sonar_X moraju biti np.array jer fja split prima samo objekte tog tipa"
   ]
  },
  {
   "cell_type": "markdown",
   "metadata": {
    "deletable": true,
    "editable": true
   },
   "source": []
  },
  {
   "cell_type": "code",
   "execution_count": 9,
   "metadata": {
    "collapsed": false,
    "deletable": true,
    "editable": true
   },
   "outputs": [
    {
     "name": "stdout",
     "output_type": "stream",
     "text": [
      "Target varijabla nakon miješanja: \n",
      " [1 0 0 0 1 0 1 1 0 1 1 0 1 1 1 1 1 1 0 0 1 1 1 1 0 0 0 0 1 1 1 0 0 1 1 1 1\n",
      " 1 0 1 0 1 0 1 0 0 1 1 0 0 0 1 0 0 0 0 1 1 0 1 0 1 1 1 1 1 0 0 0 0 0 0 1 1\n",
      " 0 1 1 0 0 1 0 1 0 1 1 1 0 0 0 1 1 0 0 1 0 1 0 0 1 1 0 0 1 1 0 0 1 1 1 0 0\n",
      " 1 1 1 1 1 0 0 1 1 1 0 1 1 0 1 0 0 1 0 1 0 1 1 0 0 1 0 0 1 0 1 0 1 0 1 1 1\n",
      " 1 0 0 0 0 1 0 0 1 1 0 0 0 0 1 1 0 0 1 1 1 1 0 0 1 0 1 1 1 0 0 0 0 0 1 1 1\n",
      " 0 1 1 0 0 1 1 1 1 1 1 0 0 1 1 0 1 0 1 0 0 1 1]\n"
     ]
    }
   ],
   "source": [
    "# shuffle\n",
    "from sklearn.utils import shuffle\n",
    "\n",
    "random_state = 42\n",
    "# fiksiranje broja random state omogućuje da svaki put kada opet runamo ovaj kod, dobijemo istu podjelu na subsetove\n",
    "# ovaj broj kojim fiksiramo odabran je nasumično\n",
    "\n",
    "X,y = shuffle(sonar_X,sonar_y,random_state=random_state)\n",
    "print(\"Target varijabla nakon miješanja: \\n\", y)"
   ]
  },
  {
   "cell_type": "markdown",
   "metadata": {
    "deletable": true,
    "editable": true
   },
   "source": [
    "## 2. PCA"
   ]
  },
  {
   "cell_type": "markdown",
   "metadata": {
    "deletable": true,
    "editable": true
   },
   "source": []
  },
  {
   "cell_type": "code",
   "execution_count": 10,
   "metadata": {
    "collapsed": true,
    "deletable": true,
    "editable": true
   },
   "outputs": [],
   "source": [
    "from sklearn.decomposition import PCA"
   ]
  },
  {
   "cell_type": "code",
   "execution_count": 11,
   "metadata": {
    "collapsed": false,
    "deletable": true,
    "editable": true
   },
   "outputs": [
    {
     "name": "stdout",
     "output_type": "stream",
     "text": [
      "Broj dimenzija nakon PCA:  17\n"
     ]
    }
   ],
   "source": [
    "#PCA\n",
    "\n",
    "pca = PCA(.95) #  Zadržat ćemo 95% varijance (95% se inače uzima, mi se možemo dogovoriti i za manji broj)\n",
    "brojKomponenti = [] # Usput ćemo i bilježiti koliko komponenti smo uzeli za svaki skup, tj. kolika nam je sada dimenz.\n",
    "\n",
    "pca.fit(X)\n",
    "brojKomponenti = pca.n_components_\n",
    "X = pca.transform(X)\n",
    "\n",
    "print(\"Broj dimenzija nakon PCA: \", brojKomponenti)"
   ]
  },
  {
   "cell_type": "code",
   "execution_count": 12,
   "metadata": {
    "collapsed": true,
    "deletable": true,
    "editable": true
   },
   "outputs": [],
   "source": [
    "from sklearn.model_selection import RepeatedStratifiedKFold\n",
    "\n",
    "random_state = 164981614\n",
    "\n",
    "rskf = RepeatedStratifiedKFold(n_splits=10, n_repeats=1, random_state=random_state)\n",
    "\n",
    "X_train, X_test, y_train, y_test = [], [], [], []\n",
    "\n",
    "for train_index, test_index in rskf.split(X, y):\n",
    "    X_train.append(X[train_index])\n",
    "    X_test.append(X[test_index])\n",
    "    y_train.append(y[train_index])\n",
    "    y_test.append(y[test_index])"
   ]
  },
  {
   "cell_type": "code",
   "execution_count": 13,
   "metadata": {
    "collapsed": false,
    "deletable": true,
    "editable": true
   },
   "outputs": [
    {
     "name": "stdout",
     "output_type": "stream",
     "text": [
      "Veličina prvog train seta:  186\n",
      "Veličina prvog test seta:  22\n",
      "186 + 22 = 208\n"
     ]
    }
   ],
   "source": [
    "print(\"Veličina prvog train seta: \", len(X_train[0]))\n",
    "print(\"Veličina prvog test seta: \", len(X_test[0]))\n",
    "print(len(X_train[0]), \"+\", len(X_test[0]), \"=\", len(X_train[0])+len(X_test[0]))"
   ]
  },
  {
   "cell_type": "markdown",
   "metadata": {
    "deletable": true,
    "editable": true
   },
   "source": [
    "## 3. SVM"
   ]
  },
  {
   "cell_type": "markdown",
   "metadata": {
    "deletable": true,
    "editable": true
   },
   "source": []
  },
  {
   "cell_type": "code",
   "execution_count": 16,
   "metadata": {
    "collapsed": true,
    "deletable": true,
    "editable": true
   },
   "outputs": [],
   "source": [
    "# SVM\n",
    "\n",
    "from time import time\n",
    "from sklearn.model_selection import GridSearchCV, RandomizedSearchCV  # In new version (0.19. it's in model_selection module!)\n",
    "from sklearn.pipeline import Pipeline\n",
    "from sklearn import svm\n",
    "from sklearn.metrics import accuracy_score, classification_report, confusion_matrix\n",
    "from scipy import stats"
   ]
  },
  {
   "cell_type": "markdown",
   "metadata": {
    "deletable": true,
    "editable": true
   },
   "source": [
    "### 3.1. SVM koristeći GridSearchCV"
   ]
  },
  {
   "cell_type": "code",
   "execution_count": 17,
   "metadata": {
    "collapsed": false,
    "deletable": true,
    "editable": true
   },
   "outputs": [
    {
     "name": "stdout",
     "output_type": "stream",
     "text": [
      "Performing grid search...\n",
      "pipeline: ['SVM']\n",
      "parameters:\n",
      "{'SVM__C': array([  1.00000000e-01,   1.09749877e-01,   1.20450354e-01,\n",
      "         1.32194115e-01,   1.45082878e-01,   1.59228279e-01,\n",
      "         1.74752840e-01,   1.91791026e-01,   2.10490414e-01,\n",
      "         2.31012970e-01,   2.53536449e-01,   2.78255940e-01,\n",
      "         3.05385551e-01,   3.35160265e-01,   3.67837977e-01,\n",
      "         4.03701726e-01,   4.43062146e-01,   4.86260158e-01,\n",
      "         5.33669923e-01,   5.85702082e-01,   6.42807312e-01,\n",
      "         7.05480231e-01,   7.74263683e-01,   8.49753436e-01,\n",
      "         9.32603347e-01,   1.02353102e+00,   1.12332403e+00,\n",
      "         1.23284674e+00,   1.35304777e+00,   1.48496826e+00,\n",
      "         1.62975083e+00,   1.78864953e+00,   1.96304065e+00,\n",
      "         2.15443469e+00,   2.36448941e+00,   2.59502421e+00,\n",
      "         2.84803587e+00,   3.12571585e+00,   3.43046929e+00,\n",
      "         3.76493581e+00,   4.13201240e+00,   4.53487851e+00,\n",
      "         4.97702356e+00,   5.46227722e+00,   5.99484250e+00,\n",
      "         6.57933225e+00,   7.22080902e+00,   7.92482898e+00,\n",
      "         8.69749003e+00,   9.54548457e+00,   1.04761575e+01,\n",
      "         1.14975700e+01,   1.26185688e+01,   1.38488637e+01,\n",
      "         1.51991108e+01,   1.66810054e+01,   1.83073828e+01,\n",
      "         2.00923300e+01,   2.20513074e+01,   2.42012826e+01,\n",
      "         2.65608778e+01,   2.91505306e+01,   3.19926714e+01,\n",
      "         3.51119173e+01,   3.85352859e+01,   4.22924287e+01,\n",
      "         4.64158883e+01,   5.09413801e+01,   5.59081018e+01,\n",
      "         6.13590727e+01,   6.73415066e+01,   7.39072203e+01,\n",
      "         8.11130831e+01,   8.90215085e+01,   9.77009957e+01,\n",
      "         1.07226722e+02,   1.17681195e+02,   1.29154967e+02,\n",
      "         1.41747416e+02,   1.55567614e+02,   1.70735265e+02,\n",
      "         1.87381742e+02,   2.05651231e+02,   2.25701972e+02,\n",
      "         2.47707636e+02,   2.71858824e+02,   2.98364724e+02,\n",
      "         3.27454916e+02,   3.59381366e+02,   3.94420606e+02,\n",
      "         4.32876128e+02,   4.75081016e+02,   5.21400829e+02,\n",
      "         5.72236766e+02,   6.28029144e+02,   6.89261210e+02,\n",
      "         7.56463328e+02,   8.30217568e+02,   9.11162756e+02,\n",
      "         1.00000000e+03]), 'SVM__gamma': array([  1.00000000e-04,   1.01109091e-01,   2.02118182e-01,\n",
      "         3.03127273e-01,   4.04136364e-01,   5.05145455e-01,\n",
      "         6.06154545e-01,   7.07163636e-01,   8.08172727e-01,\n",
      "         9.09181818e-01,   1.01019091e+00,   1.11120000e+00,\n",
      "         1.21220909e+00,   1.31321818e+00,   1.41422727e+00,\n",
      "         1.51523636e+00,   1.61624545e+00,   1.71725455e+00,\n",
      "         1.81826364e+00,   1.91927273e+00,   2.02028182e+00,\n",
      "         2.12129091e+00,   2.22230000e+00,   2.32330909e+00,\n",
      "         2.42431818e+00,   2.52532727e+00,   2.62633636e+00,\n",
      "         2.72734545e+00,   2.82835455e+00,   2.92936364e+00,\n",
      "         3.03037273e+00,   3.13138182e+00,   3.23239091e+00,\n",
      "         3.33340000e+00,   3.43440909e+00,   3.53541818e+00,\n",
      "         3.63642727e+00,   3.73743636e+00,   3.83844545e+00,\n",
      "         3.93945455e+00,   4.04046364e+00,   4.14147273e+00,\n",
      "         4.24248182e+00,   4.34349091e+00,   4.44450000e+00,\n",
      "         4.54550909e+00,   4.64651818e+00,   4.74752727e+00,\n",
      "         4.84853636e+00,   4.94954545e+00,   5.05055455e+00,\n",
      "         5.15156364e+00,   5.25257273e+00,   5.35358182e+00,\n",
      "         5.45459091e+00,   5.55560000e+00,   5.65660909e+00,\n",
      "         5.75761818e+00,   5.85862727e+00,   5.95963636e+00,\n",
      "         6.06064545e+00,   6.16165455e+00,   6.26266364e+00,\n",
      "         6.36367273e+00,   6.46468182e+00,   6.56569091e+00,\n",
      "         6.66670000e+00,   6.76770909e+00,   6.86871818e+00,\n",
      "         6.96972727e+00,   7.07073636e+00,   7.17174545e+00,\n",
      "         7.27275455e+00,   7.37376364e+00,   7.47477273e+00,\n",
      "         7.57578182e+00,   7.67679091e+00,   7.77780000e+00,\n",
      "         7.87880909e+00,   7.97981818e+00,   8.08082727e+00,\n",
      "         8.18183636e+00,   8.28284545e+00,   8.38385455e+00,\n",
      "         8.48486364e+00,   8.58587273e+00,   8.68688182e+00,\n",
      "         8.78789091e+00,   8.88890000e+00,   8.98990909e+00,\n",
      "         9.09091818e+00,   9.19192727e+00,   9.29293636e+00,\n",
      "         9.39394545e+00,   9.49495455e+00,   9.59596364e+00,\n",
      "         9.69697273e+00,   9.79798182e+00,   9.89899091e+00,\n",
      "         1.00000000e+01])}\n"
     ]
    },
    {
     "ename": "KeyboardInterrupt",
     "evalue": "",
     "output_type": "error",
     "traceback": [
      "\u001b[1;31m---------------------------------------------------------------------------\u001b[0m",
      "\u001b[1;31mKeyboardInterrupt\u001b[0m                         Traceback (most recent call last)",
      "\u001b[1;32m<ipython-input-17-e1d307a74acc>\u001b[0m in \u001b[0;36m<module>\u001b[1;34m()\u001b[0m\n\u001b[0;32m     23\u001b[0m \u001b[1;33m\u001b[0m\u001b[0m\n\u001b[0;32m     24\u001b[0m     \u001b[1;32mfor\u001b[0m \u001b[0mi\u001b[0m \u001b[1;32min\u001b[0m \u001b[0mrange\u001b[0m\u001b[1;33m(\u001b[0m\u001b[1;36m10\u001b[0m\u001b[1;33m)\u001b[0m\u001b[1;33m:\u001b[0m\u001b[1;33m\u001b[0m\u001b[0m\n\u001b[1;32m---> 25\u001b[1;33m         \u001b[0mgrid_search\u001b[0m\u001b[1;33m.\u001b[0m\u001b[0mfit\u001b[0m\u001b[1;33m(\u001b[0m\u001b[0mX_train\u001b[0m\u001b[1;33m[\u001b[0m\u001b[0mi\u001b[0m\u001b[1;33m]\u001b[0m\u001b[1;33m,\u001b[0m \u001b[0my_train\u001b[0m\u001b[1;33m[\u001b[0m\u001b[0mi\u001b[0m\u001b[1;33m]\u001b[0m\u001b[1;33m)\u001b[0m\u001b[1;33m\u001b[0m\u001b[0m\n\u001b[0m\u001b[0;32m     26\u001b[0m         \u001b[0mbest_parameters\u001b[0m \u001b[1;33m=\u001b[0m \u001b[0mgrid_search\u001b[0m\u001b[1;33m.\u001b[0m\u001b[0mbest_estimator_\u001b[0m\u001b[1;33m.\u001b[0m\u001b[0mget_params\u001b[0m\u001b[1;33m(\u001b[0m\u001b[1;33m)\u001b[0m\u001b[1;33m\u001b[0m\u001b[0m\n\u001b[0;32m     27\u001b[0m         \u001b[0mmodel\u001b[0m \u001b[1;33m=\u001b[0m \u001b[0mgrid_search\u001b[0m\u001b[1;33m.\u001b[0m\u001b[0mbest_estimator_\u001b[0m\u001b[1;33m.\u001b[0m\u001b[0mfit\u001b[0m\u001b[1;33m(\u001b[0m\u001b[0mX_train\u001b[0m\u001b[1;33m[\u001b[0m\u001b[0mi\u001b[0m\u001b[1;33m]\u001b[0m\u001b[1;33m,\u001b[0m \u001b[0my_train\u001b[0m\u001b[1;33m[\u001b[0m\u001b[0mi\u001b[0m\u001b[1;33m]\u001b[0m\u001b[1;33m)\u001b[0m\u001b[1;33m\u001b[0m\u001b[0m\n",
      "\u001b[1;32mC:\\Users\\Alen\\AppData\\Local\\Enthought\\Canopy\\edm\\envs\\User\\lib\\site-packages\\sklearn\\model_selection\\_search.py\u001b[0m in \u001b[0;36mfit\u001b[1;34m(self, X, y, groups, **fit_params)\u001b[0m\n\u001b[0;32m    637\u001b[0m                                   error_score=self.error_score)\n\u001b[0;32m    638\u001b[0m           for parameters, (train, test) in product(candidate_params,\n\u001b[1;32m--> 639\u001b[1;33m                                                    cv.split(X, y, groups)))\n\u001b[0m\u001b[0;32m    640\u001b[0m \u001b[1;33m\u001b[0m\u001b[0m\n\u001b[0;32m    641\u001b[0m         \u001b[1;31m# if one choose to see train score, \"out\" will contain train score info\u001b[0m\u001b[1;33m\u001b[0m\u001b[1;33m\u001b[0m\u001b[0m\n",
      "\u001b[1;32mC:\\Users\\Alen\\AppData\\Local\\Enthought\\Canopy\\edm\\envs\\User\\lib\\site-packages\\sklearn\\externals\\joblib\\parallel.py\u001b[0m in \u001b[0;36m__call__\u001b[1;34m(self, iterable)\u001b[0m\n\u001b[0;32m    777\u001b[0m             \u001b[1;31m# was dispatched. In particular this covers the edge\u001b[0m\u001b[1;33m\u001b[0m\u001b[1;33m\u001b[0m\u001b[0m\n\u001b[0;32m    778\u001b[0m             \u001b[1;31m# case of Parallel used with an exhausted iterator.\u001b[0m\u001b[1;33m\u001b[0m\u001b[1;33m\u001b[0m\u001b[0m\n\u001b[1;32m--> 779\u001b[1;33m             \u001b[1;32mwhile\u001b[0m \u001b[0mself\u001b[0m\u001b[1;33m.\u001b[0m\u001b[0mdispatch_one_batch\u001b[0m\u001b[1;33m(\u001b[0m\u001b[0miterator\u001b[0m\u001b[1;33m)\u001b[0m\u001b[1;33m:\u001b[0m\u001b[1;33m\u001b[0m\u001b[0m\n\u001b[0m\u001b[0;32m    780\u001b[0m                 \u001b[0mself\u001b[0m\u001b[1;33m.\u001b[0m\u001b[0m_iterating\u001b[0m \u001b[1;33m=\u001b[0m \u001b[1;32mTrue\u001b[0m\u001b[1;33m\u001b[0m\u001b[0m\n\u001b[0;32m    781\u001b[0m             \u001b[1;32melse\u001b[0m\u001b[1;33m:\u001b[0m\u001b[1;33m\u001b[0m\u001b[0m\n",
      "\u001b[1;32mC:\\Users\\Alen\\AppData\\Local\\Enthought\\Canopy\\edm\\envs\\User\\lib\\site-packages\\sklearn\\externals\\joblib\\parallel.py\u001b[0m in \u001b[0;36mdispatch_one_batch\u001b[1;34m(self, iterator)\u001b[0m\n\u001b[0;32m    623\u001b[0m                 \u001b[1;32mreturn\u001b[0m \u001b[1;32mFalse\u001b[0m\u001b[1;33m\u001b[0m\u001b[0m\n\u001b[0;32m    624\u001b[0m             \u001b[1;32melse\u001b[0m\u001b[1;33m:\u001b[0m\u001b[1;33m\u001b[0m\u001b[0m\n\u001b[1;32m--> 625\u001b[1;33m                 \u001b[0mself\u001b[0m\u001b[1;33m.\u001b[0m\u001b[0m_dispatch\u001b[0m\u001b[1;33m(\u001b[0m\u001b[0mtasks\u001b[0m\u001b[1;33m)\u001b[0m\u001b[1;33m\u001b[0m\u001b[0m\n\u001b[0m\u001b[0;32m    626\u001b[0m                 \u001b[1;32mreturn\u001b[0m \u001b[1;32mTrue\u001b[0m\u001b[1;33m\u001b[0m\u001b[0m\n\u001b[0;32m    627\u001b[0m \u001b[1;33m\u001b[0m\u001b[0m\n",
      "\u001b[1;32mC:\\Users\\Alen\\AppData\\Local\\Enthought\\Canopy\\edm\\envs\\User\\lib\\site-packages\\sklearn\\externals\\joblib\\parallel.py\u001b[0m in \u001b[0;36m_dispatch\u001b[1;34m(self, batch)\u001b[0m\n\u001b[0;32m    586\u001b[0m         \u001b[0mdispatch_timestamp\u001b[0m \u001b[1;33m=\u001b[0m \u001b[0mtime\u001b[0m\u001b[1;33m.\u001b[0m\u001b[0mtime\u001b[0m\u001b[1;33m(\u001b[0m\u001b[1;33m)\u001b[0m\u001b[1;33m\u001b[0m\u001b[0m\n\u001b[0;32m    587\u001b[0m         \u001b[0mcb\u001b[0m \u001b[1;33m=\u001b[0m \u001b[0mBatchCompletionCallBack\u001b[0m\u001b[1;33m(\u001b[0m\u001b[0mdispatch_timestamp\u001b[0m\u001b[1;33m,\u001b[0m \u001b[0mlen\u001b[0m\u001b[1;33m(\u001b[0m\u001b[0mbatch\u001b[0m\u001b[1;33m)\u001b[0m\u001b[1;33m,\u001b[0m \u001b[0mself\u001b[0m\u001b[1;33m)\u001b[0m\u001b[1;33m\u001b[0m\u001b[0m\n\u001b[1;32m--> 588\u001b[1;33m         \u001b[0mjob\u001b[0m \u001b[1;33m=\u001b[0m \u001b[0mself\u001b[0m\u001b[1;33m.\u001b[0m\u001b[0m_backend\u001b[0m\u001b[1;33m.\u001b[0m\u001b[0mapply_async\u001b[0m\u001b[1;33m(\u001b[0m\u001b[0mbatch\u001b[0m\u001b[1;33m,\u001b[0m \u001b[0mcallback\u001b[0m\u001b[1;33m=\u001b[0m\u001b[0mcb\u001b[0m\u001b[1;33m)\u001b[0m\u001b[1;33m\u001b[0m\u001b[0m\n\u001b[0m\u001b[0;32m    589\u001b[0m         \u001b[0mself\u001b[0m\u001b[1;33m.\u001b[0m\u001b[0m_jobs\u001b[0m\u001b[1;33m.\u001b[0m\u001b[0mappend\u001b[0m\u001b[1;33m(\u001b[0m\u001b[0mjob\u001b[0m\u001b[1;33m)\u001b[0m\u001b[1;33m\u001b[0m\u001b[0m\n\u001b[0;32m    590\u001b[0m \u001b[1;33m\u001b[0m\u001b[0m\n",
      "\u001b[1;32mC:\\Users\\Alen\\AppData\\Local\\Enthought\\Canopy\\edm\\envs\\User\\lib\\site-packages\\sklearn\\externals\\joblib\\_parallel_backends.py\u001b[0m in \u001b[0;36mapply_async\u001b[1;34m(self, func, callback)\u001b[0m\n\u001b[0;32m    109\u001b[0m     \u001b[1;32mdef\u001b[0m \u001b[0mapply_async\u001b[0m\u001b[1;33m(\u001b[0m\u001b[0mself\u001b[0m\u001b[1;33m,\u001b[0m \u001b[0mfunc\u001b[0m\u001b[1;33m,\u001b[0m \u001b[0mcallback\u001b[0m\u001b[1;33m=\u001b[0m\u001b[1;32mNone\u001b[0m\u001b[1;33m)\u001b[0m\u001b[1;33m:\u001b[0m\u001b[1;33m\u001b[0m\u001b[0m\n\u001b[0;32m    110\u001b[0m         \u001b[1;34m\"\"\"Schedule a func to be run\"\"\"\u001b[0m\u001b[1;33m\u001b[0m\u001b[0m\n\u001b[1;32m--> 111\u001b[1;33m         \u001b[0mresult\u001b[0m \u001b[1;33m=\u001b[0m \u001b[0mImmediateResult\u001b[0m\u001b[1;33m(\u001b[0m\u001b[0mfunc\u001b[0m\u001b[1;33m)\u001b[0m\u001b[1;33m\u001b[0m\u001b[0m\n\u001b[0m\u001b[0;32m    112\u001b[0m         \u001b[1;32mif\u001b[0m \u001b[0mcallback\u001b[0m\u001b[1;33m:\u001b[0m\u001b[1;33m\u001b[0m\u001b[0m\n\u001b[0;32m    113\u001b[0m             \u001b[0mcallback\u001b[0m\u001b[1;33m(\u001b[0m\u001b[0mresult\u001b[0m\u001b[1;33m)\u001b[0m\u001b[1;33m\u001b[0m\u001b[0m\n",
      "\u001b[1;32mC:\\Users\\Alen\\AppData\\Local\\Enthought\\Canopy\\edm\\envs\\User\\lib\\site-packages\\sklearn\\externals\\joblib\\_parallel_backends.py\u001b[0m in \u001b[0;36m__init__\u001b[1;34m(self, batch)\u001b[0m\n\u001b[0;32m    330\u001b[0m         \u001b[1;31m# Don't delay the application, to avoid keeping the input\u001b[0m\u001b[1;33m\u001b[0m\u001b[1;33m\u001b[0m\u001b[0m\n\u001b[0;32m    331\u001b[0m         \u001b[1;31m# arguments in memory\u001b[0m\u001b[1;33m\u001b[0m\u001b[1;33m\u001b[0m\u001b[0m\n\u001b[1;32m--> 332\u001b[1;33m         \u001b[0mself\u001b[0m\u001b[1;33m.\u001b[0m\u001b[0mresults\u001b[0m \u001b[1;33m=\u001b[0m \u001b[0mbatch\u001b[0m\u001b[1;33m(\u001b[0m\u001b[1;33m)\u001b[0m\u001b[1;33m\u001b[0m\u001b[0m\n\u001b[0m\u001b[0;32m    333\u001b[0m \u001b[1;33m\u001b[0m\u001b[0m\n\u001b[0;32m    334\u001b[0m     \u001b[1;32mdef\u001b[0m \u001b[0mget\u001b[0m\u001b[1;33m(\u001b[0m\u001b[0mself\u001b[0m\u001b[1;33m)\u001b[0m\u001b[1;33m:\u001b[0m\u001b[1;33m\u001b[0m\u001b[0m\n",
      "\u001b[1;32mC:\\Users\\Alen\\AppData\\Local\\Enthought\\Canopy\\edm\\envs\\User\\lib\\site-packages\\sklearn\\externals\\joblib\\parallel.py\u001b[0m in \u001b[0;36m__call__\u001b[1;34m(self)\u001b[0m\n\u001b[0;32m    129\u001b[0m \u001b[1;33m\u001b[0m\u001b[0m\n\u001b[0;32m    130\u001b[0m     \u001b[1;32mdef\u001b[0m \u001b[0m__call__\u001b[0m\u001b[1;33m(\u001b[0m\u001b[0mself\u001b[0m\u001b[1;33m)\u001b[0m\u001b[1;33m:\u001b[0m\u001b[1;33m\u001b[0m\u001b[0m\n\u001b[1;32m--> 131\u001b[1;33m         \u001b[1;32mreturn\u001b[0m \u001b[1;33m[\u001b[0m\u001b[0mfunc\u001b[0m\u001b[1;33m(\u001b[0m\u001b[1;33m*\u001b[0m\u001b[0margs\u001b[0m\u001b[1;33m,\u001b[0m \u001b[1;33m**\u001b[0m\u001b[0mkwargs\u001b[0m\u001b[1;33m)\u001b[0m \u001b[1;32mfor\u001b[0m \u001b[0mfunc\u001b[0m\u001b[1;33m,\u001b[0m \u001b[0margs\u001b[0m\u001b[1;33m,\u001b[0m \u001b[0mkwargs\u001b[0m \u001b[1;32min\u001b[0m \u001b[0mself\u001b[0m\u001b[1;33m.\u001b[0m\u001b[0mitems\u001b[0m\u001b[1;33m]\u001b[0m\u001b[1;33m\u001b[0m\u001b[0m\n\u001b[0m\u001b[0;32m    132\u001b[0m \u001b[1;33m\u001b[0m\u001b[0m\n\u001b[0;32m    133\u001b[0m     \u001b[1;32mdef\u001b[0m \u001b[0m__len__\u001b[0m\u001b[1;33m(\u001b[0m\u001b[0mself\u001b[0m\u001b[1;33m)\u001b[0m\u001b[1;33m:\u001b[0m\u001b[1;33m\u001b[0m\u001b[0m\n",
      "\u001b[1;32mC:\\Users\\Alen\\AppData\\Local\\Enthought\\Canopy\\edm\\envs\\User\\lib\\site-packages\\sklearn\\externals\\joblib\\parallel.py\u001b[0m in \u001b[0;36m<listcomp>\u001b[1;34m(.0)\u001b[0m\n\u001b[0;32m    129\u001b[0m \u001b[1;33m\u001b[0m\u001b[0m\n\u001b[0;32m    130\u001b[0m     \u001b[1;32mdef\u001b[0m \u001b[0m__call__\u001b[0m\u001b[1;33m(\u001b[0m\u001b[0mself\u001b[0m\u001b[1;33m)\u001b[0m\u001b[1;33m:\u001b[0m\u001b[1;33m\u001b[0m\u001b[0m\n\u001b[1;32m--> 131\u001b[1;33m         \u001b[1;32mreturn\u001b[0m \u001b[1;33m[\u001b[0m\u001b[0mfunc\u001b[0m\u001b[1;33m(\u001b[0m\u001b[1;33m*\u001b[0m\u001b[0margs\u001b[0m\u001b[1;33m,\u001b[0m \u001b[1;33m**\u001b[0m\u001b[0mkwargs\u001b[0m\u001b[1;33m)\u001b[0m \u001b[1;32mfor\u001b[0m \u001b[0mfunc\u001b[0m\u001b[1;33m,\u001b[0m \u001b[0margs\u001b[0m\u001b[1;33m,\u001b[0m \u001b[0mkwargs\u001b[0m \u001b[1;32min\u001b[0m \u001b[0mself\u001b[0m\u001b[1;33m.\u001b[0m\u001b[0mitems\u001b[0m\u001b[1;33m]\u001b[0m\u001b[1;33m\u001b[0m\u001b[0m\n\u001b[0m\u001b[0;32m    132\u001b[0m \u001b[1;33m\u001b[0m\u001b[0m\n\u001b[0;32m    133\u001b[0m     \u001b[1;32mdef\u001b[0m \u001b[0m__len__\u001b[0m\u001b[1;33m(\u001b[0m\u001b[0mself\u001b[0m\u001b[1;33m)\u001b[0m\u001b[1;33m:\u001b[0m\u001b[1;33m\u001b[0m\u001b[0m\n",
      "\u001b[1;32mC:\\Users\\Alen\\AppData\\Local\\Enthought\\Canopy\\edm\\envs\\User\\lib\\site-packages\\sklearn\\model_selection\\_validation.py\u001b[0m in \u001b[0;36m_fit_and_score\u001b[1;34m(estimator, X, y, scorer, train, test, verbose, parameters, fit_params, return_train_score, return_parameters, return_n_test_samples, return_times, error_score)\u001b[0m\n\u001b[0;32m    456\u001b[0m             \u001b[0mestimator\u001b[0m\u001b[1;33m.\u001b[0m\u001b[0mfit\u001b[0m\u001b[1;33m(\u001b[0m\u001b[0mX_train\u001b[0m\u001b[1;33m,\u001b[0m \u001b[1;33m**\u001b[0m\u001b[0mfit_params\u001b[0m\u001b[1;33m)\u001b[0m\u001b[1;33m\u001b[0m\u001b[0m\n\u001b[0;32m    457\u001b[0m         \u001b[1;32melse\u001b[0m\u001b[1;33m:\u001b[0m\u001b[1;33m\u001b[0m\u001b[0m\n\u001b[1;32m--> 458\u001b[1;33m             \u001b[0mestimator\u001b[0m\u001b[1;33m.\u001b[0m\u001b[0mfit\u001b[0m\u001b[1;33m(\u001b[0m\u001b[0mX_train\u001b[0m\u001b[1;33m,\u001b[0m \u001b[0my_train\u001b[0m\u001b[1;33m,\u001b[0m \u001b[1;33m**\u001b[0m\u001b[0mfit_params\u001b[0m\u001b[1;33m)\u001b[0m\u001b[1;33m\u001b[0m\u001b[0m\n\u001b[0m\u001b[0;32m    459\u001b[0m \u001b[1;33m\u001b[0m\u001b[0m\n\u001b[0;32m    460\u001b[0m     \u001b[1;32mexcept\u001b[0m \u001b[0mException\u001b[0m \u001b[1;32mas\u001b[0m \u001b[0me\u001b[0m\u001b[1;33m:\u001b[0m\u001b[1;33m\u001b[0m\u001b[0m\n",
      "\u001b[1;32mC:\\Users\\Alen\\AppData\\Local\\Enthought\\Canopy\\edm\\envs\\User\\lib\\site-packages\\sklearn\\pipeline.py\u001b[0m in \u001b[0;36mfit\u001b[1;34m(self, X, y, **fit_params)\u001b[0m\n\u001b[0;32m    248\u001b[0m         \u001b[0mXt\u001b[0m\u001b[1;33m,\u001b[0m \u001b[0mfit_params\u001b[0m \u001b[1;33m=\u001b[0m \u001b[0mself\u001b[0m\u001b[1;33m.\u001b[0m\u001b[0m_fit\u001b[0m\u001b[1;33m(\u001b[0m\u001b[0mX\u001b[0m\u001b[1;33m,\u001b[0m \u001b[0my\u001b[0m\u001b[1;33m,\u001b[0m \u001b[1;33m**\u001b[0m\u001b[0mfit_params\u001b[0m\u001b[1;33m)\u001b[0m\u001b[1;33m\u001b[0m\u001b[0m\n\u001b[0;32m    249\u001b[0m         \u001b[1;32mif\u001b[0m \u001b[0mself\u001b[0m\u001b[1;33m.\u001b[0m\u001b[0m_final_estimator\u001b[0m \u001b[1;32mis\u001b[0m \u001b[1;32mnot\u001b[0m \u001b[1;32mNone\u001b[0m\u001b[1;33m:\u001b[0m\u001b[1;33m\u001b[0m\u001b[0m\n\u001b[1;32m--> 250\u001b[1;33m             \u001b[0mself\u001b[0m\u001b[1;33m.\u001b[0m\u001b[0m_final_estimator\u001b[0m\u001b[1;33m.\u001b[0m\u001b[0mfit\u001b[0m\u001b[1;33m(\u001b[0m\u001b[0mXt\u001b[0m\u001b[1;33m,\u001b[0m \u001b[0my\u001b[0m\u001b[1;33m,\u001b[0m \u001b[1;33m**\u001b[0m\u001b[0mfit_params\u001b[0m\u001b[1;33m)\u001b[0m\u001b[1;33m\u001b[0m\u001b[0m\n\u001b[0m\u001b[0;32m    251\u001b[0m         \u001b[1;32mreturn\u001b[0m \u001b[0mself\u001b[0m\u001b[1;33m\u001b[0m\u001b[0m\n\u001b[0;32m    252\u001b[0m \u001b[1;33m\u001b[0m\u001b[0m\n",
      "\u001b[1;32mC:\\Users\\Alen\\AppData\\Local\\Enthought\\Canopy\\edm\\envs\\User\\lib\\site-packages\\sklearn\\svm\\base.py\u001b[0m in \u001b[0;36mfit\u001b[1;34m(self, X, y, sample_weight)\u001b[0m\n\u001b[0;32m    185\u001b[0m \u001b[1;33m\u001b[0m\u001b[0m\n\u001b[0;32m    186\u001b[0m         \u001b[0mseed\u001b[0m \u001b[1;33m=\u001b[0m \u001b[0mrnd\u001b[0m\u001b[1;33m.\u001b[0m\u001b[0mrandint\u001b[0m\u001b[1;33m(\u001b[0m\u001b[0mnp\u001b[0m\u001b[1;33m.\u001b[0m\u001b[0miinfo\u001b[0m\u001b[1;33m(\u001b[0m\u001b[1;34m'i'\u001b[0m\u001b[1;33m)\u001b[0m\u001b[1;33m.\u001b[0m\u001b[0mmax\u001b[0m\u001b[1;33m)\u001b[0m\u001b[1;33m\u001b[0m\u001b[0m\n\u001b[1;32m--> 187\u001b[1;33m         \u001b[0mfit\u001b[0m\u001b[1;33m(\u001b[0m\u001b[0mX\u001b[0m\u001b[1;33m,\u001b[0m \u001b[0my\u001b[0m\u001b[1;33m,\u001b[0m \u001b[0msample_weight\u001b[0m\u001b[1;33m,\u001b[0m \u001b[0msolver_type\u001b[0m\u001b[1;33m,\u001b[0m \u001b[0mkernel\u001b[0m\u001b[1;33m,\u001b[0m \u001b[0mrandom_seed\u001b[0m\u001b[1;33m=\u001b[0m\u001b[0mseed\u001b[0m\u001b[1;33m)\u001b[0m\u001b[1;33m\u001b[0m\u001b[0m\n\u001b[0m\u001b[0;32m    188\u001b[0m         \u001b[1;31m# see comment on the other call to np.iinfo in this file\u001b[0m\u001b[1;33m\u001b[0m\u001b[1;33m\u001b[0m\u001b[0m\n\u001b[0;32m    189\u001b[0m \u001b[1;33m\u001b[0m\u001b[0m\n",
      "\u001b[1;32mC:\\Users\\Alen\\AppData\\Local\\Enthought\\Canopy\\edm\\envs\\User\\lib\\site-packages\\sklearn\\svm\\base.py\u001b[0m in \u001b[0;36m_dense_fit\u001b[1;34m(self, X, y, sample_weight, solver_type, kernel, random_seed)\u001b[0m\n\u001b[0;32m    252\u001b[0m                 \u001b[0mcache_size\u001b[0m\u001b[1;33m=\u001b[0m\u001b[0mself\u001b[0m\u001b[1;33m.\u001b[0m\u001b[0mcache_size\u001b[0m\u001b[1;33m,\u001b[0m \u001b[0mcoef0\u001b[0m\u001b[1;33m=\u001b[0m\u001b[0mself\u001b[0m\u001b[1;33m.\u001b[0m\u001b[0mcoef0\u001b[0m\u001b[1;33m,\u001b[0m\u001b[1;33m\u001b[0m\u001b[0m\n\u001b[0;32m    253\u001b[0m                 \u001b[0mgamma\u001b[0m\u001b[1;33m=\u001b[0m\u001b[0mself\u001b[0m\u001b[1;33m.\u001b[0m\u001b[0m_gamma\u001b[0m\u001b[1;33m,\u001b[0m \u001b[0mepsilon\u001b[0m\u001b[1;33m=\u001b[0m\u001b[0mself\u001b[0m\u001b[1;33m.\u001b[0m\u001b[0mepsilon\u001b[0m\u001b[1;33m,\u001b[0m\u001b[1;33m\u001b[0m\u001b[0m\n\u001b[1;32m--> 254\u001b[1;33m                 max_iter=self.max_iter, random_seed=random_seed)\n\u001b[0m\u001b[0;32m    255\u001b[0m \u001b[1;33m\u001b[0m\u001b[0m\n\u001b[0;32m    256\u001b[0m         \u001b[0mself\u001b[0m\u001b[1;33m.\u001b[0m\u001b[0m_warn_from_fit_status\u001b[0m\u001b[1;33m(\u001b[0m\u001b[1;33m)\u001b[0m\u001b[1;33m\u001b[0m\u001b[0m\n",
      "\u001b[1;31mKeyboardInterrupt\u001b[0m: "
     ]
    }
   ],
   "source": [
    "pipeline = Pipeline( [ ('SVM', svm.SVC(kernel='rbf',probability=True)) ] )\n",
    "\n",
    "parameters = {\n",
    "    #'SVM__C':(1.0,10.0,100.0,1000.0),\n",
    "    #'SVM__gamma':(0.001,0.01,0.1,1.0)\n",
    "    'SVM__C': np.logspace(-1, 3, 100),\n",
    "    'SVM__gamma': np.linspace(0.0001, 10, 100)\n",
    "}\n",
    "\n",
    "if __name__ == \"__main__\":\n",
    "    # multiprocessing requires the fork to happen in a __main__ protected block\n",
    "    grid_search = GridSearchCV(pipeline, parameters, cv=3)\n",
    "    # default scoring je accuracy koji mi želimo\n",
    "\n",
    "    print(\"Performing grid search...\")\n",
    "    print(\"pipeline:\", [name for name, _ in pipeline.steps])\n",
    "    print(\"parameters:\")\n",
    "    print(parameters)\n",
    "    t0 = time()\n",
    "    rjecnik = {}\n",
    "    acc = []\n",
    "    \n",
    "    \n",
    "    for i in range(10):\n",
    "        grid_search.fit(X_train[i], y_train[i])\n",
    "        best_parameters = grid_search.best_estimator_.get_params()\n",
    "        model = grid_search.best_estimator_.fit(X_train[i], y_train[i])\n",
    "        y_pred = model.predict(X_test[i])\n",
    "        acc_score = accuracy_score(y_test[i],y_pred)\n",
    "        acc.append(acc_score)\n",
    "        conf_mat = confusion_matrix(y_test[i],y_pred)\n",
    "        rjecnik[i+1] = (grid_search.best_score_, best_parameters['SVM__C'], best_parameters['SVM__gamma'], acc_score,\n",
    "                       conf_mat[1][1], conf_mat[0][1], conf_mat[1][0], conf_mat[0][0])\n",
    "        \n",
    "        \n",
    "    print(\"done in %0.3fs\" % (time() - t0))"
   ]
  },
  {
   "cell_type": "code",
   "execution_count": null,
   "metadata": {
    "collapsed": false,
    "deletable": true,
    "editable": true
   },
   "outputs": [],
   "source": [
    "print(\"Parametri dobiveni koristeći GridSearchCV:\\n\")\n",
    "df = pd.DataFrame(rjecnik, index=['score', 'C', 'gamma', 'accuracy', 'TP', 'FP', 'FN', 'TN'])\n",
    "print(df)\n",
    "    \n",
    "avg_accuracy = np.average(acc)\n",
    "print(\"\\nProsječna točnost SVM-a s rbf kernelom i parametrima dobivenim koristeći GridSearchCV je:\\n\", \n",
    "      avg_accuracy*100, \"%.\")"
   ]
  },
  {
   "cell_type": "markdown",
   "metadata": {
    "deletable": true,
    "editable": true
   },
   "source": [
    "### 3.1. SVM koristeći RandomizedSearchCV"
   ]
  },
  {
   "cell_type": "code",
   "execution_count": null,
   "metadata": {
    "collapsed": false,
    "deletable": true,
    "editable": true
   },
   "outputs": [],
   "source": [
    "pipeline = Pipeline( [ ('SVM', svm.SVC(kernel='rbf',probability=True)) ] )\n",
    "\n",
    "parameters = {\n",
    "    'SVM__C':stats.uniform(1, 100),\n",
    "    'SVM__gamma':stats.uniform(0.001, 1.0)\n",
    "}\n",
    "\n",
    "if __name__ == \"__main__\":\n",
    "    # multiprocessing requires the fork to happen in a __main__ protected block\n",
    "    # default scoring je accuracy koji mi želimo\n",
    "    randomized_search = RandomizedSearchCV(pipeline, parameters, n_iter=100, random_state=2018, cv=3)\n",
    "    \n",
    "    print(\"Performing randomized search...\")\n",
    "    print(\"pipeline:\", [name for name, _ in pipeline.steps])\n",
    "    t0 = time()\n",
    "    rjecnik = {}\n",
    "    acc = []\n",
    "    for i in range(10):\n",
    "        randomized_search.fit(X_train[i], y_train[i])\n",
    "        best_parameters = randomized_search.best_estimator_.get_params() \n",
    "        model = randomized_search.best_estimator_.fit(X_train[i], y_train[i])\n",
    "        y_pred = model.predict(X_test[i])\n",
    "        acc_score = accuracy_score(y_test[i],y_pred)\n",
    "        acc.append(acc_score)\n",
    "        conf_mat = confusion_matrix(y_test[i],y_pred)\n",
    "        rjecnik[i+1] = (randomized_search.best_score_, best_parameters['SVM__C'], best_parameters['SVM__gamma'], acc_score,\n",
    "                        conf_mat[1][1], conf_mat[0][1], conf_mat[1][0], conf_mat[0][0])\n",
    "        \n",
    "    print(\"done in %0.3fs\" % (time() - t0))"
   ]
  },
  {
   "cell_type": "code",
   "execution_count": null,
   "metadata": {
    "collapsed": false,
    "deletable": true,
    "editable": true
   },
   "outputs": [],
   "source": [
    "print(\"Parametri dobiveni koristeći RandomizedSearchCV:\\n\")\n",
    "df = pd.DataFrame(rjecnik, index=['score', 'C', 'gamma', 'accuracy', 'TP', 'FP', 'FN', 'TN'])\n",
    "print(df)\n",
    "    \n",
    "avg_accuracy = np.average(acc)\n",
    "print(\"\\nProsječna točnost SVM-a s rbf kernelom i parametrima dobivenim koristeći RandomizedSearchCV je:\\n\", \n",
    "      avg_accuracy*100, \"%.\")"
   ]
  },
  {
   "cell_type": "markdown",
   "metadata": {
    "collapsed": true,
    "deletable": true,
    "editable": true
   },
   "source": [
    "## 4. k-NN"
   ]
  },
  {
   "cell_type": "markdown",
   "metadata": {},
   "source": [
    "_k Nearest Neighbor_ prima neki training set i za nove podatke određuje većinskim glasovanjem kojoj klasi pripadaju, ovisno o tome kojeg tipa je _k najbližih susjeda_. Metrika može biti bilo koja, ali uobičajena je neka od: Euklidska $(L^2)$, Manhattan $(L^1)$ i Čebišev $(L^\\infty)$."
   ]
  },
  {
   "cell_type": "code",
   "execution_count": 25,
   "metadata": {
    "collapsed": false
   },
   "outputs": [
    {
     "name": "stdout",
     "output_type": "stream",
     "text": [
      "done in 4.190s\n"
     ]
    }
   ],
   "source": [
    "from sklearn.neighbors import KNeighborsClassifier\n",
    "#parametar k biramo iz 1...10, i promatramo 3 metrike\n",
    "parameters = {'n_neighbors': list(range(1,11)),\n",
    "              'metric': ['chebyshev', 'euclidean', 'manhattan']}\n",
    "\n",
    "if __name__ == \"__main__\":\n",
    "    # multiprocessing requires the fork to happen in a __main__ protected block\n",
    "    grid_search = GridSearchCV(KNeighborsClassifier(weights='distance'), parameters, cv=3)\n",
    "    # default scoring je accuracy koji mi želimo\n",
    "\n",
    "    grid_search = GridSearchCV(KNeighborsClassifier(weights='distance'), parameters, cv=3)\n",
    "\n",
    "    t0 = time()\n",
    "    rjecnik = {}\n",
    "    acc = []\n",
    "\n",
    "    for i in range(10):\n",
    "        grid_search.fit(X_train[i], y_train[i])\n",
    "        best_parameters = grid_search.best_estimator_.get_params()\n",
    "        model = grid_search.best_estimator_.fit(X_train[i], y_train[i])\n",
    "        y_pred = model.predict(X_test[i])\n",
    "        acc_score = accuracy_score(y_test[i],y_pred)\n",
    "        acc.append(acc_score)\n",
    "        conf_mat = confusion_matrix(y_test[i],y_pred)\n",
    "        rjecnik[i+1] = (grid_search.best_score_, best_parameters['n_neighbors'], best_parameters['metric'], acc_score,\n",
    "                       conf_mat[1][1], conf_mat[0][1], conf_mat[1][0], conf_mat[0][0])\n",
    "        \n",
    "    print(\"done in %0.3fs\" % (time() - t0))"
   ]
  },
  {
   "cell_type": "code",
   "execution_count": 27,
   "metadata": {
    "collapsed": false
   },
   "outputs": [
    {
     "name": "stdout",
     "output_type": "stream",
     "text": [
      "Parametri dobiveni koristeći GridSearchCV:\n",
      "\n",
      "                    1          2          3          4          5          6   \\\n",
      "score         0.822581   0.828877   0.850267   0.850267   0.850267   0.839572   \n",
      "n_neighbors          1          1          1          1          3          3   \n",
      "metric       chebyshev  chebyshev  chebyshev  chebyshev  euclidean  chebyshev   \n",
      "accuracy      0.954545   0.904762   0.809524   0.857143   0.857143   0.857143   \n",
      "TP                  11         10          9         11         10          9   \n",
      "FP                   0          1          2          3          2          1   \n",
      "FN                   1          1          2          0          1          2   \n",
      "TN                  10          9          8          7          8          9   \n",
      "\n",
      "                    7          8          9          10  \n",
      "score         0.855615    0.87766   0.829787   0.861702  \n",
      "n_neighbors          3          3          5          1  \n",
      "metric       euclidean  chebyshev  chebyshev  chebyshev  \n",
      "accuracy      0.619048        0.8       0.85        0.8  \n",
      "TP                   7         10         11         10  \n",
      "FP                   4          3          3          3  \n",
      "FN                   4          1          0          1  \n",
      "TN                   6          6          6          6  \n",
      "[0.95454545454545459, 0.90476190476190477, 0.80952380952380953, 0.8571428571428571, 0.8571428571428571, 0.8571428571428571, 0.61904761904761907, 0.80000000000000004, 0.84999999999999998, 0.80000000000000004]\n",
      "\n",
      "Prosječna točnost k-NN-a s parametrima dobivenim koristeći GridSearchCV je:\n",
      " 83.0930735931 %.\n"
     ]
    }
   ],
   "source": [
    "print(\"Parametri dobiveni koristeći GridSearchCV:\\n\")\n",
    "df = pd.DataFrame(rjecnik, index=['score', 'n_neighbors', 'metric', 'accuracy', 'TP', 'FP', 'FN', 'TN'])\n",
    "print(df.round(2))\n",
    "\n",
    "print(acc)\n",
    "avg_accuracy = np.average(acc)\n",
    "print(\"\\nProsječna točnost k-NN-a s parametrima dobivenim koristeći GridSearchCV je:\\n\", \n",
    "      avg_accuracy*100, \"%.\")"
   ]
  },
  {
   "cell_type": "markdown",
   "metadata": {},
   "source": [
    "## Random Forest"
   ]
  },
  {
   "cell_type": "markdown",
   "metadata": {},
   "source": [
    "Glavni parametri u RandomForest su broj stabala *n_estimators* i broj korištenih feature-a u svakom stablu *max_features*."
   ]
  },
  {
   "cell_type": "code",
   "execution_count": 32,
   "metadata": {
    "collapsed": false
   },
   "outputs": [
    {
     "name": "stdout",
     "output_type": "stream",
     "text": [
      "Parameter grid:\n",
      "{'n_estimators': [1, 3, 5, 7, 9, 11, 13, 15, 17, 19], 'max_features': [1, 2, 3, 4, 5, 6, 7, 8, 9, 10, 15, 20, 25, 30, 35, 40, 45, 50, 55, 60]}\n",
      "done in 172.903s\n"
     ]
    }
   ],
   "source": [
    "from sklearn.ensemble import RandomForestClassifier\n",
    "\n",
    "# biramo broj stabala odlučivanja u šumi te broj značajki koje će Random Forest algoritam koristiti\n",
    "parameters = {'n_estimators': list(range(1,21,2)),\n",
    "              'max_features': list(range(1,18))}\n",
    "print(\"Parameter grid:\\n{}\".format(param_grid))\n",
    "\n",
    "if __name__ == \"__main__\":\n",
    "    # multiprocessing requires the fork to happen in a __main__ protected block\n",
    "    grid_search = GridSearchCV(RandomForestClassifier(), parameters, cv=3)\n",
    "    # default scoring je accuracy koji mi želimo\n",
    "\n",
    "    t0 = time()\n",
    "    rjecnik = {}\n",
    "    acc = []\n",
    "\n",
    "    for i in range(10):\n",
    "        grid_search.fit(X_train[i], y_train[i])\n",
    "        best_parameters = grid_search.best_estimator_.get_params()\n",
    "        model = grid_search.best_estimator_.fit(X_train[i], y_train[i])\n",
    "        y_pred = model.predict(X_test[i])\n",
    "        acc_score = accuracy_score(y_test[i],y_pred)\n",
    "        acc.append(acc_score)\n",
    "        conf_mat = confusion_matrix(y_test[i],y_pred)\n",
    "        rjecnik[i+1] = (grid_search.best_score_, best_parameters['n_estimators'], best_parameters['max_features'], acc_score,\n",
    "                       conf_mat[1][1], conf_mat[0][1], conf_mat[1][0], conf_mat[0][0])\n",
    "        \n",
    "    print(\"done in %0.3fs\" % (time() - t0))"
   ]
  },
  {
   "cell_type": "code",
   "execution_count": 34,
   "metadata": {
    "collapsed": false
   },
   "outputs": [
    {
     "name": "stdout",
     "output_type": "stream",
     "text": [
      "Parametri dobiveni koristeći GridSearchCV:\n",
      "\n",
      "                 1      2      3      4      5      6      7      8      9   \\\n",
      "score          0.81   0.80   0.79   0.79   0.81   0.79   0.79   0.81   0.79   \n",
      "n_estimators   7.00  17.00  17.00  15.00  13.00  19.00   9.00  15.00  19.00   \n",
      "max_features   6.00  16.00  17.00   1.00  11.00  11.00  14.00  17.00   1.00   \n",
      "accuracy       0.82   0.57   0.86   0.76   0.95   0.76   0.76   0.70   0.65   \n",
      "TP             8.00   7.00   9.00  11.00  11.00   9.00   8.00   7.00   8.00   \n",
      "FP             0.00   5.00   1.00   5.00   1.00   3.00   2.00   2.00   4.00   \n",
      "FN             4.00   4.00   2.00   0.00   0.00   2.00   3.00   4.00   3.00   \n",
      "TN            10.00   5.00   9.00   5.00   9.00   7.00   8.00   7.00   5.00   \n",
      "\n",
      "                 10  \n",
      "score          0.82  \n",
      "n_estimators  15.00  \n",
      "max_features   3.00  \n",
      "accuracy       0.55  \n",
      "TP             7.00  \n",
      "FP             5.00  \n",
      "FN             4.00  \n",
      "TN             4.00  \n",
      "[0.81818181818181823, 0.5714285714285714, 0.8571428571428571, 0.76190476190476186, 0.95238095238095233, 0.76190476190476186, 0.76190476190476186, 0.69999999999999996, 0.65000000000000002, 0.55000000000000004]\n",
      "\n",
      "Prosječna točnost RandomForest s parametrima dobivenim koristeći GridSearchCV je:\n",
      " 73.8484848485 %.\n"
     ]
    }
   ],
   "source": [
    "print(\"Parametri dobiveni koristeći GridSearchCV:\\n\")\n",
    "df = pd.DataFrame(rjecnik, index=['score', 'n_estimators', 'max_features', 'accuracy', 'TP', 'FP', 'FN', 'TN'])\n",
    "print(df.round(2))\n",
    "\n",
    "print(acc)\n",
    "avg_accuracy = np.average(acc)\n",
    "print(\"\\nProsječna točnost RandomForest s parametrima dobivenim koristeći GridSearchCV je:\\n\", \n",
    "      avg_accuracy*100, \"%.\")"
   ]
  }
 ],
 "metadata": {
  "kernelspec": {
   "display_name": "Python 3",
   "language": "python",
   "name": "python3"
  },
  "language_info": {
   "codemirror_mode": {
    "name": "ipython",
    "version": 3
   },
   "file_extension": ".py",
   "mimetype": "text/x-python",
   "name": "python",
   "nbconvert_exporter": "python",
   "pygments_lexer": "ipython3",
   "version": "3.5.2"
  }
 },
 "nbformat": 4,
 "nbformat_minor": 2
}
