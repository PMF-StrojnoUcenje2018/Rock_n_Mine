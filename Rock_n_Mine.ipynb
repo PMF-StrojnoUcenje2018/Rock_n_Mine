{
 "cells": [
  {
   "cell_type": "markdown",
   "metadata": {},
   "source": [
    "# Klasifikacija mina i kamenja u sonar datasetu "
   ]
  },
  {
   "cell_type": "markdown",
   "metadata": {},
   "source": [
    "### Autori: Alen Andrašek, Monika Majstorović, Luka Valenta "
   ]
  },
  {
   "cell_type": "markdown",
   "metadata": {},
   "source": [
    "Ovaj notebook napravljen je za potrebe kolegija Strojno učenje na PMF-u Sveučilišta u Zagrebu kao realizacija projektnog zadatka u akademskoj godini 2017./2018. "
   ]
  },
  {
   "cell_type": "markdown",
   "metadata": {},
   "source": [
    "Mentori:\n",
    "- Tomislav Šmuc, prof.\n",
    "- Tomislav Lipić, asist.\n",
    "- Matija Piškorec, asist."
   ]
  },
  {
   "cell_type": "markdown",
   "metadata": {},
   "source": [
    "Cilj ovog notebooka jest pokazati primjer metodologije pri odabiru modela, obradi podataka i općenito realizaciji projekta. Bit će koncipiran kao tutorijal za provedbu projekta \"od nule\" (tj. počevši od dataseta)."
   ]
  },
  {
   "cell_type": "markdown",
   "metadata": {},
   "source": [
    "Dataset kojeg koristimo naziva se Connectionist Bench (Sonar, Mines vs. Rocks) Data Set (skraćeno: sonar dataset) i skinut je s UCI repozitorija za strojno učenje."
   ]
  },
  {
   "cell_type": "markdown",
   "metadata": {},
   "source": [
    "##  1. O datasetu"
   ]
  },
  {
   "cell_type": "markdown",
   "metadata": {},
   "source": [
    "Prvo pitanje koje si postavljamo kada pred sobom imamo dataset jest: koji problem rješavamo pomoću ovog dataseta?\n",
    "\n",
    "U opisu sonar dataseta dostupnom na [ref] saznajemo da je za svaki uzorak u datasetu poznato radi li se o mini ili kamenu te da je zadatak klasifikacija podataka u te dvije skupine.\n",
    "Dakle, radi se o **nadziranom učenju** i problemu **binarne klasifikacije**."
   ]
  },
  {
   "cell_type": "markdown",
   "metadata": {},
   "source": [
    "Kako izgleda dataset?\n",
    "\n",
    "Iz [ref] također saznajemo da dataset sadrži 208 podataka. Svaki od njih ima 60 značajki čije su vrijednosti između 0.0 i 1.0 te oznaku klase 'R' ili 'M' ovisno o tome pripada li podatak kamenu ili mini. Ukupno ima 111 podataka koji pripadaju minama i 97 koji pripadaju kamenju. Nema vrijednosti koje nedostaju.\n",
    "\n",
    "Pokažimo kako bismo to ispitali koristeći pandas:"
   ]
  },
  {
   "cell_type": "code",
   "execution_count": 30,
   "metadata": {
    "collapsed": true
   },
   "outputs": [],
   "source": [
    "import pandas as pd\n",
    "import matplotlib.pyplot as plt\n",
    "import numpy as np"
   ]
  },
  {
   "cell_type": "code",
   "execution_count": 31,
   "metadata": {},
   "outputs": [
    {
     "data": {
      "text/html": [
       "<div>\n",
       "<style>\n",
       "    .dataframe thead tr:only-child th {\n",
       "        text-align: right;\n",
       "    }\n",
       "\n",
       "    .dataframe thead th {\n",
       "        text-align: left;\n",
       "    }\n",
       "\n",
       "    .dataframe tbody tr th {\n",
       "        vertical-align: top;\n",
       "    }\n",
       "</style>\n",
       "<table border=\"1\" class=\"dataframe\">\n",
       "  <thead>\n",
       "    <tr style=\"text-align: right;\">\n",
       "      <th></th>\n",
       "      <th>1</th>\n",
       "      <th>2</th>\n",
       "      <th>3</th>\n",
       "      <th>4</th>\n",
       "      <th>5</th>\n",
       "      <th>6</th>\n",
       "      <th>7</th>\n",
       "      <th>8</th>\n",
       "      <th>9</th>\n",
       "      <th>10</th>\n",
       "      <th>...</th>\n",
       "      <th>52</th>\n",
       "      <th>53</th>\n",
       "      <th>54</th>\n",
       "      <th>55</th>\n",
       "      <th>56</th>\n",
       "      <th>57</th>\n",
       "      <th>58</th>\n",
       "      <th>59</th>\n",
       "      <th>60</th>\n",
       "      <th>Class</th>\n",
       "    </tr>\n",
       "  </thead>\n",
       "  <tbody>\n",
       "    <tr>\n",
       "      <th>0</th>\n",
       "      <td>0.0200</td>\n",
       "      <td>0.0371</td>\n",
       "      <td>0.0428</td>\n",
       "      <td>0.0207</td>\n",
       "      <td>0.0954</td>\n",
       "      <td>0.0986</td>\n",
       "      <td>0.1539</td>\n",
       "      <td>0.1601</td>\n",
       "      <td>0.3109</td>\n",
       "      <td>0.2111</td>\n",
       "      <td>...</td>\n",
       "      <td>0.0027</td>\n",
       "      <td>0.0065</td>\n",
       "      <td>0.0159</td>\n",
       "      <td>0.0072</td>\n",
       "      <td>0.0167</td>\n",
       "      <td>0.0180</td>\n",
       "      <td>0.0084</td>\n",
       "      <td>0.0090</td>\n",
       "      <td>0.0032</td>\n",
       "      <td>R</td>\n",
       "    </tr>\n",
       "    <tr>\n",
       "      <th>1</th>\n",
       "      <td>0.0453</td>\n",
       "      <td>0.0523</td>\n",
       "      <td>0.0843</td>\n",
       "      <td>0.0689</td>\n",
       "      <td>0.1183</td>\n",
       "      <td>0.2583</td>\n",
       "      <td>0.2156</td>\n",
       "      <td>0.3481</td>\n",
       "      <td>0.3337</td>\n",
       "      <td>0.2872</td>\n",
       "      <td>...</td>\n",
       "      <td>0.0084</td>\n",
       "      <td>0.0089</td>\n",
       "      <td>0.0048</td>\n",
       "      <td>0.0094</td>\n",
       "      <td>0.0191</td>\n",
       "      <td>0.0140</td>\n",
       "      <td>0.0049</td>\n",
       "      <td>0.0052</td>\n",
       "      <td>0.0044</td>\n",
       "      <td>R</td>\n",
       "    </tr>\n",
       "    <tr>\n",
       "      <th>2</th>\n",
       "      <td>0.0262</td>\n",
       "      <td>0.0582</td>\n",
       "      <td>0.1099</td>\n",
       "      <td>0.1083</td>\n",
       "      <td>0.0974</td>\n",
       "      <td>0.2280</td>\n",
       "      <td>0.2431</td>\n",
       "      <td>0.3771</td>\n",
       "      <td>0.5598</td>\n",
       "      <td>0.6194</td>\n",
       "      <td>...</td>\n",
       "      <td>0.0232</td>\n",
       "      <td>0.0166</td>\n",
       "      <td>0.0095</td>\n",
       "      <td>0.0180</td>\n",
       "      <td>0.0244</td>\n",
       "      <td>0.0316</td>\n",
       "      <td>0.0164</td>\n",
       "      <td>0.0095</td>\n",
       "      <td>0.0078</td>\n",
       "      <td>R</td>\n",
       "    </tr>\n",
       "    <tr>\n",
       "      <th>3</th>\n",
       "      <td>0.0100</td>\n",
       "      <td>0.0171</td>\n",
       "      <td>0.0623</td>\n",
       "      <td>0.0205</td>\n",
       "      <td>0.0205</td>\n",
       "      <td>0.0368</td>\n",
       "      <td>0.1098</td>\n",
       "      <td>0.1276</td>\n",
       "      <td>0.0598</td>\n",
       "      <td>0.1264</td>\n",
       "      <td>...</td>\n",
       "      <td>0.0121</td>\n",
       "      <td>0.0036</td>\n",
       "      <td>0.0150</td>\n",
       "      <td>0.0085</td>\n",
       "      <td>0.0073</td>\n",
       "      <td>0.0050</td>\n",
       "      <td>0.0044</td>\n",
       "      <td>0.0040</td>\n",
       "      <td>0.0117</td>\n",
       "      <td>R</td>\n",
       "    </tr>\n",
       "    <tr>\n",
       "      <th>4</th>\n",
       "      <td>0.0762</td>\n",
       "      <td>0.0666</td>\n",
       "      <td>0.0481</td>\n",
       "      <td>0.0394</td>\n",
       "      <td>0.0590</td>\n",
       "      <td>0.0649</td>\n",
       "      <td>0.1209</td>\n",
       "      <td>0.2467</td>\n",
       "      <td>0.3564</td>\n",
       "      <td>0.4459</td>\n",
       "      <td>...</td>\n",
       "      <td>0.0031</td>\n",
       "      <td>0.0054</td>\n",
       "      <td>0.0105</td>\n",
       "      <td>0.0110</td>\n",
       "      <td>0.0015</td>\n",
       "      <td>0.0072</td>\n",
       "      <td>0.0048</td>\n",
       "      <td>0.0107</td>\n",
       "      <td>0.0094</td>\n",
       "      <td>R</td>\n",
       "    </tr>\n",
       "  </tbody>\n",
       "</table>\n",
       "<p>5 rows × 61 columns</p>\n",
       "</div>"
      ],
      "text/plain": [
       "        1       2       3       4       5       6       7       8       9  \\\n",
       "0  0.0200  0.0371  0.0428  0.0207  0.0954  0.0986  0.1539  0.1601  0.3109   \n",
       "1  0.0453  0.0523  0.0843  0.0689  0.1183  0.2583  0.2156  0.3481  0.3337   \n",
       "2  0.0262  0.0582  0.1099  0.1083  0.0974  0.2280  0.2431  0.3771  0.5598   \n",
       "3  0.0100  0.0171  0.0623  0.0205  0.0205  0.0368  0.1098  0.1276  0.0598   \n",
       "4  0.0762  0.0666  0.0481  0.0394  0.0590  0.0649  0.1209  0.2467  0.3564   \n",
       "\n",
       "       10  ...        52      53      54      55      56      57      58  \\\n",
       "0  0.2111  ...    0.0027  0.0065  0.0159  0.0072  0.0167  0.0180  0.0084   \n",
       "1  0.2872  ...    0.0084  0.0089  0.0048  0.0094  0.0191  0.0140  0.0049   \n",
       "2  0.6194  ...    0.0232  0.0166  0.0095  0.0180  0.0244  0.0316  0.0164   \n",
       "3  0.1264  ...    0.0121  0.0036  0.0150  0.0085  0.0073  0.0050  0.0044   \n",
       "4  0.4459  ...    0.0031  0.0054  0.0105  0.0110  0.0015  0.0072  0.0048   \n",
       "\n",
       "       59      60  Class  \n",
       "0  0.0090  0.0032      R  \n",
       "1  0.0052  0.0044      R  \n",
       "2  0.0095  0.0078      R  \n",
       "3  0.0040  0.0117      R  \n",
       "4  0.0107  0.0094      R  \n",
       "\n",
       "[5 rows x 61 columns]"
      ]
     },
     "execution_count": 31,
     "metadata": {},
     "output_type": "execute_result"
    }
   ],
   "source": [
    "# Učitamo dataset i dodijelimo imena stupcima\n",
    "\n",
    "url = \"https://archive.ics.uci.edu/ml/machine-learning-databases/undocumented/connectionist-bench/sonar/sonar.all-data\"\n",
    "\n",
    "colNames = []\n",
    "for i in range(60):\n",
    "    colNames.append(i+1)\n",
    "colNames.append(\"Class\")\n",
    "\n",
    "sonar = pd.read_csv(url,names=colNames,header=None)\n",
    "sonar.head()"
   ]
  },
  {
   "cell_type": "code",
   "execution_count": 32,
   "metadata": {
    "scrolled": true
   },
   "outputs": [
    {
     "data": {
      "text/plain": [
       "(208, 61)"
      ]
     },
     "execution_count": 32,
     "metadata": {},
     "output_type": "execute_result"
    }
   ],
   "source": [
    "sonar.shape  # Dataframe ima 208 redaka i 61 stupac."
   ]
  },
  {
   "cell_type": "code",
   "execution_count": 33,
   "metadata": {},
   "outputs": [
    {
     "data": {
      "text/plain": [
       "1    float64\n",
       "2    float64\n",
       "3    float64\n",
       "4    float64\n",
       "5    float64\n",
       "dtype: object"
      ]
     },
     "execution_count": 33,
     "metadata": {},
     "output_type": "execute_result"
    }
   ],
   "source": [
    "sonar.dtypes.head()  # Tipovi podataka u dataframeu."
   ]
  },
  {
   "cell_type": "code",
   "execution_count": 34,
   "metadata": {},
   "outputs": [
    {
     "data": {
      "text/plain": [
       "Class\n",
       "M    111\n",
       "R     97\n",
       "dtype: int64"
      ]
     },
     "execution_count": 34,
     "metadata": {},
     "output_type": "execute_result"
    }
   ],
   "source": [
    "sonar.groupby('Class').size()  # Želimo saznati koliko ima podataka određene klase."
   ]
  },
  {
   "cell_type": "code",
   "execution_count": 35,
   "metadata": {},
   "outputs": [
    {
     "data": {
      "text/plain": [
       "False"
      ]
     },
     "execution_count": 35,
     "metadata": {},
     "output_type": "execute_result"
    }
   ],
   "source": [
    "sonar.isnull().any().any()  # Ima li vrijednosti koje nedostaju?"
   ]
  },
  {
   "cell_type": "markdown",
   "metadata": {},
   "source": [
    "Sonar dataset je mali. Kod malih datasetova veći problem nego kod velikih datasetova mogu prestavljati:\n",
    "-  vrijednosti koje nedostaju\n",
    "-  buka\n",
    "-  overfitting\n",
    "\n",
    "Više o načinu pristupa malim datasetovima u strojnom učenju pročitajte u članku [ref].\n",
    "\n",
    "Već smo pokazali da nema vrijednosti koje nedostaju u sonar datasetu.\n",
    "\n",
    "Pretpostavljamo da je buka u datasetu minimalna zbog načina prikupljanja i obrade podataka prije nego što su ušli u dataset. Naime, podaci su skupljeni tako što su na pjeskovito morsko dno stavljeni metalni cilindar i kamenje otprilike\n",
    "cilindričnog oblika, oboje duljine oko 1.52 m (5 ft) te je pomoću sonara emitiran signal. Jeka je prikupljena s udaljenosti 10 m te iz kuteva raspona do 90° za cilindar i raspona do 180° za kamen. **Od 1200 primljenih zvukova, odabrano ih je 208 koji su imali omjer šuma i signala između 4 dB i 15 dB.** Daljnjom spektralnom analizom signala te normalizacijom dobivenih podataka svaki od 208 signala predstavljen je konačno 60-dimenzionalnim vektorom u kojem svaka komponenta poprima vrijednosti između 0.0 i 1.0.\n",
    "\n",
    "Za rješavanje problema overfittinga preporučuje se odabir jednostavnijih modela poput logističke regresije, k-Nearest Neighbours (k-NN), Support Vector Machine (SVM), Random Forest (dodati još, ne sjećam se). \n",
    "\n",
    "Mi smo odabrali SVM i k-NN. Njihov performans na kraju ćemo usporediti.\n",
    "\n"
   ]
  },
  {
   "cell_type": "code",
   "execution_count": 36,
   "metadata": {
    "collapsed": true
   },
   "outputs": [],
   "source": [
    "# Koreliranost klasa\n",
    "rock = sonar.loc[ sonar['Class'] == 'R', : ]\n",
    "mine = sonar.loc[ sonar['Class'] == 'M', : ]\n",
    "\n",
    "fig, axes = plt.subplots(30, 2, figsize=(50,50))\n",
    "ax = axes.ravel() # axes are 2-dimensional so we unfold them\n",
    "for i in range(60):\n",
    "    _, bins = np.histogram(sonar.iloc[:,i], bins=30)\n",
    "    ax[i].hist(rock.iloc[:,i], bins=bins, color='r', alpha=.5, label='rock')\n",
    "    ax[i].hist(mine.iloc[:,i], bins=bins, color='b', alpha=.5, label='mine')\n",
    "    ax[i].set_title(sonar.columns.values[i])\n",
    "    ax[i].set_yticks(()) # remove ticks on y-axis\n",
    "    ax[i].legend(loc='upper right')\n",
    "fig.tight_layout();"
   ]
  },
  {
   "cell_type": "markdown",
   "metadata": {},
   "source": [
    "Nećemo vršiti standardizaciju podataka prije PCA jer su nam podaci istog tipa i u istoj mjernoj jedinici.\n",
    "[ref = https://www.researchgate.net/post/What_is_the_best_way_to_scale_parameters_before_running_a_Principal_Component_Analysis_PCA]"
   ]
  },
  {
   "cell_type": "code",
   "execution_count": 37,
   "metadata": {
    "collapsed": true
   },
   "outputs": [],
   "source": [
    "sonar_y = [] # target array (niz čiji elementi govore je li odgovarajući element tog indexa u datasetu sonar R ili M)\n",
    "for i in range(97):\n",
    "    sonar_y.append(0) # 0 označavaju R\n",
    "for i in range(111):\n",
    "    sonar_y.append(1) # 1 označavaju M\n",
    "sonar_y = np.array(sonar_y)\n",
    "\n",
    "sonar_bez_Class = sonar.drop('Class', axis=1) # uklonimo zadnji stupac Class iz sonar dataframea\n",
    "sonar_X = np.array(sonar_bez_Class.values)\n",
    "\n",
    "# sonar_y i sonar_X moraju biti np.array jer fja split prima samo objekte tog tipa"
   ]
  },
  {
   "cell_type": "markdown",
   "metadata": {},
   "source": []
  },
  {
   "cell_type": "code",
   "execution_count": 38,
   "metadata": {
    "collapsed": true
   },
   "outputs": [],
   "source": [
    "from sklearn.utils import shuffle"
   ]
  },
  {
   "cell_type": "code",
   "execution_count": 39,
   "metadata": {},
   "outputs": [
    {
     "name": "stdout",
     "output_type": "stream",
     "text": [
      "Target varijabla nakon miješanja: \n",
      " [1 0 0 0 1 0 1 1 0 1 1 0 1 1 1 1 1 1 0 0 1 1 1 1 0 0 0 0 1 1 1 0 0 1 1 1 1\n",
      " 1 0 1 0 1 0 1 0 0 1 1 0 0 0 1 0 0 0 0 1 1 0 1 0 1 1 1 1 1 0 0 0 0 0 0 1 1\n",
      " 0 1 1 0 0 1 0 1 0 1 1 1 0 0 0 1 1 0 0 1 0 1 0 0 1 1 0 0 1 1 0 0 1 1 1 0 0\n",
      " 1 1 1 1 1 0 0 1 1 1 0 1 1 0 1 0 0 1 0 1 0 1 1 0 0 1 0 0 1 0 1 0 1 0 1 1 1\n",
      " 1 0 0 0 0 1 0 0 1 1 0 0 0 0 1 1 0 0 1 1 1 1 0 0 1 0 1 1 1 0 0 0 0 0 1 1 1\n",
      " 0 1 1 0 0 1 1 1 1 1 1 0 0 1 1 0 1 0 1 0 0 1 1]\n"
     ]
    }
   ],
   "source": [
    "# shuffle\n",
    "\n",
    "random_state = 42\n",
    "# fiksiranje broja random state omogućuje da svaki put kada opet runamo ovaj kod, dobijemo istu podjelu na subsetove\n",
    "# ovaj broj kojim fiksiramo odabran je nasumično\n",
    "\n",
    "X,y = shuffle(sonar_X,sonar_y,random_state=random_state)\n",
    "print(\"Target varijabla nakon miješanja: \\n\", y)"
   ]
  },
  {
   "cell_type": "markdown",
   "metadata": {},
   "source": [
    "## 2. PCA"
   ]
  },
  {
   "cell_type": "markdown",
   "metadata": {},
   "source": []
  },
  {
   "cell_type": "code",
   "execution_count": 40,
   "metadata": {
    "collapsed": true
   },
   "outputs": [],
   "source": [
    "from sklearn.decomposition import PCA"
   ]
  },
  {
   "cell_type": "code",
   "execution_count": 41,
   "metadata": {},
   "outputs": [
    {
     "name": "stdout",
     "output_type": "stream",
     "text": [
      "Broj dimenzija nakon PCA:  17\n"
     ]
    }
   ],
   "source": [
    "#PCA\n",
    "\n",
    "pca = PCA(.95) #  Zadržat ćemo 95% varijance (95% se inače uzima, mi se možemo dogovoriti i za manji broj)\n",
    "brojKomponenti = [] # Usput ćemo i bilježiti koliko komponenti smo uzeli za svaki skup, tj. kolika nam je sada dimenz.\n",
    "\n",
    "pca.fit(X)\n",
    "brojKomponenti = pca.n_components_\n",
    "X = pca.transform(X)\n",
    "\n",
    "print(\"Broj dimenzija nakon PCA: \", brojKomponenti)"
   ]
  },
  {
   "cell_type": "code",
   "execution_count": 42,
   "metadata": {
    "collapsed": true
   },
   "outputs": [],
   "source": [
    "from sklearn.model_selection import RepeatedStratifiedKFold\n",
    "\n",
    "random_state = 164981614\n",
    "\n",
    "rskf = RepeatedStratifiedKFold(n_splits=10, n_repeats=1, random_state=random_state)\n",
    "\n",
    "X_train, X_test, y_train, y_test = [], [], [], []\n",
    "\n",
    "for train_index, test_index in rskf.split(X, y):\n",
    "    X_train.append(X[train_index])\n",
    "    X_test.append(X[test_index])\n",
    "    y_train.append(y[train_index])\n",
    "    y_test.append(y[test_index])"
   ]
  },
  {
   "cell_type": "code",
   "execution_count": 43,
   "metadata": {},
   "outputs": [
    {
     "name": "stdout",
     "output_type": "stream",
     "text": [
      "Veličina prvog train seta:  186\n",
      "Veličina prvog test seta:  22\n",
      "186 + 22 = 208\n"
     ]
    }
   ],
   "source": [
    "print(\"Veličina prvog train seta: \", len(X_train[0]))\n",
    "print(\"Veličina prvog test seta: \", len(X_test[0]))\n",
    "print(len(X_train[0]), \"+\", len(X_test[0]), \"=\", len(X_train[0])+len(X_test[0]))"
   ]
  },
  {
   "cell_type": "markdown",
   "metadata": {},
   "source": [
    "## 3. SVM"
   ]
  },
  {
   "cell_type": "markdown",
   "metadata": {},
   "source": []
  },
  {
   "cell_type": "code",
   "execution_count": 44,
   "metadata": {
    "collapsed": true
   },
   "outputs": [],
   "source": [
    "# SVM\n",
    "\n",
    "from time import time\n",
    "from sklearn.model_selection import GridSearchCV, RandomizedSearchCV  # In new version (0.19. it's in model_selection module!)\n",
    "from sklearn.pipeline import Pipeline\n",
    "from sklearn import svm\n",
    "from sklearn.metrics import accuracy_score, classification_report, confusion_matrix\n",
    "from scipy import stats"
   ]
  },
  {
   "cell_type": "markdown",
   "metadata": {},
   "source": [
    "### 3.1. SVM koristeći GridSearchCV"
   ]
  },
  {
   "cell_type": "code",
   "execution_count": 18,
   "metadata": {},
   "outputs": [
    {
     "name": "stdout",
     "output_type": "stream",
     "text": [
      "Performing grid search...\n",
      "pipeline: ['SVM']\n",
      "parameters:\n",
      "{'SVM__C': array([  1.00000000e-01,   1.09749877e-01,   1.20450354e-01,\n",
      "         1.32194115e-01,   1.45082878e-01,   1.59228279e-01,\n",
      "         1.74752840e-01,   1.91791026e-01,   2.10490414e-01,\n",
      "         2.31012970e-01,   2.53536449e-01,   2.78255940e-01,\n",
      "         3.05385551e-01,   3.35160265e-01,   3.67837977e-01,\n",
      "         4.03701726e-01,   4.43062146e-01,   4.86260158e-01,\n",
      "         5.33669923e-01,   5.85702082e-01,   6.42807312e-01,\n",
      "         7.05480231e-01,   7.74263683e-01,   8.49753436e-01,\n",
      "         9.32603347e-01,   1.02353102e+00,   1.12332403e+00,\n",
      "         1.23284674e+00,   1.35304777e+00,   1.48496826e+00,\n",
      "         1.62975083e+00,   1.78864953e+00,   1.96304065e+00,\n",
      "         2.15443469e+00,   2.36448941e+00,   2.59502421e+00,\n",
      "         2.84803587e+00,   3.12571585e+00,   3.43046929e+00,\n",
      "         3.76493581e+00,   4.13201240e+00,   4.53487851e+00,\n",
      "         4.97702356e+00,   5.46227722e+00,   5.99484250e+00,\n",
      "         6.57933225e+00,   7.22080902e+00,   7.92482898e+00,\n",
      "         8.69749003e+00,   9.54548457e+00,   1.04761575e+01,\n",
      "         1.14975700e+01,   1.26185688e+01,   1.38488637e+01,\n",
      "         1.51991108e+01,   1.66810054e+01,   1.83073828e+01,\n",
      "         2.00923300e+01,   2.20513074e+01,   2.42012826e+01,\n",
      "         2.65608778e+01,   2.91505306e+01,   3.19926714e+01,\n",
      "         3.51119173e+01,   3.85352859e+01,   4.22924287e+01,\n",
      "         4.64158883e+01,   5.09413801e+01,   5.59081018e+01,\n",
      "         6.13590727e+01,   6.73415066e+01,   7.39072203e+01,\n",
      "         8.11130831e+01,   8.90215085e+01,   9.77009957e+01,\n",
      "         1.07226722e+02,   1.17681195e+02,   1.29154967e+02,\n",
      "         1.41747416e+02,   1.55567614e+02,   1.70735265e+02,\n",
      "         1.87381742e+02,   2.05651231e+02,   2.25701972e+02,\n",
      "         2.47707636e+02,   2.71858824e+02,   2.98364724e+02,\n",
      "         3.27454916e+02,   3.59381366e+02,   3.94420606e+02,\n",
      "         4.32876128e+02,   4.75081016e+02,   5.21400829e+02,\n",
      "         5.72236766e+02,   6.28029144e+02,   6.89261210e+02,\n",
      "         7.56463328e+02,   8.30217568e+02,   9.11162756e+02,\n",
      "         1.00000000e+03]), 'SVM__gamma': array([  1.00000000e-04,   1.01109091e-01,   2.02118182e-01,\n",
      "         3.03127273e-01,   4.04136364e-01,   5.05145455e-01,\n",
      "         6.06154545e-01,   7.07163636e-01,   8.08172727e-01,\n",
      "         9.09181818e-01,   1.01019091e+00,   1.11120000e+00,\n",
      "         1.21220909e+00,   1.31321818e+00,   1.41422727e+00,\n",
      "         1.51523636e+00,   1.61624545e+00,   1.71725455e+00,\n",
      "         1.81826364e+00,   1.91927273e+00,   2.02028182e+00,\n",
      "         2.12129091e+00,   2.22230000e+00,   2.32330909e+00,\n",
      "         2.42431818e+00,   2.52532727e+00,   2.62633636e+00,\n",
      "         2.72734545e+00,   2.82835455e+00,   2.92936364e+00,\n",
      "         3.03037273e+00,   3.13138182e+00,   3.23239091e+00,\n",
      "         3.33340000e+00,   3.43440909e+00,   3.53541818e+00,\n",
      "         3.63642727e+00,   3.73743636e+00,   3.83844545e+00,\n",
      "         3.93945455e+00,   4.04046364e+00,   4.14147273e+00,\n",
      "         4.24248182e+00,   4.34349091e+00,   4.44450000e+00,\n",
      "         4.54550909e+00,   4.64651818e+00,   4.74752727e+00,\n",
      "         4.84853636e+00,   4.94954545e+00,   5.05055455e+00,\n",
      "         5.15156364e+00,   5.25257273e+00,   5.35358182e+00,\n",
      "         5.45459091e+00,   5.55560000e+00,   5.65660909e+00,\n",
      "         5.75761818e+00,   5.85862727e+00,   5.95963636e+00,\n",
      "         6.06064545e+00,   6.16165455e+00,   6.26266364e+00,\n",
      "         6.36367273e+00,   6.46468182e+00,   6.56569091e+00,\n",
      "         6.66670000e+00,   6.76770909e+00,   6.86871818e+00,\n",
      "         6.96972727e+00,   7.07073636e+00,   7.17174545e+00,\n",
      "         7.27275455e+00,   7.37376364e+00,   7.47477273e+00,\n",
      "         7.57578182e+00,   7.67679091e+00,   7.77780000e+00,\n",
      "         7.87880909e+00,   7.97981818e+00,   8.08082727e+00,\n",
      "         8.18183636e+00,   8.28284545e+00,   8.38385455e+00,\n",
      "         8.48486364e+00,   8.58587273e+00,   8.68688182e+00,\n",
      "         8.78789091e+00,   8.88890000e+00,   8.98990909e+00,\n",
      "         9.09091818e+00,   9.19192727e+00,   9.29293636e+00,\n",
      "         9.39394545e+00,   9.49495455e+00,   9.59596364e+00,\n",
      "         9.69697273e+00,   9.79798182e+00,   9.89899091e+00,\n",
      "         1.00000000e+01])}\n",
      "done in 3020.477s\n"
     ]
    }
   ],
   "source": [
    "pipeline = Pipeline( [ ('SVM', svm.SVC(kernel='rbf',probability=True)) ] )\n",
    "\n",
    "parameters = {\n",
    "    #'SVM__C':(1.0,10.0,100.0,1000.0),\n",
    "    #'SVM__gamma':(0.001,0.01,0.1,1.0)\n",
    "    'SVM__C': np.logspace(-1, 3, 100),\n",
    "    'SVM__gamma': np.linspace(0.0001, 10, 100)\n",
    "}\n",
    "\n",
    "if __name__ == \"__main__\":\n",
    "    # multiprocessing requires the fork to happen in a __main__ protected block\n",
    "    grid_search = GridSearchCV(pipeline, parameters, cv=3)\n",
    "    # default scoring je accuracy koji mi želimo\n",
    "\n",
    "    print(\"Performing grid search...\")\n",
    "    print(\"pipeline:\", [name for name, _ in pipeline.steps])\n",
    "    print(\"parameters:\")\n",
    "    print(parameters)\n",
    "    t0 = time()\n",
    "    rjecnik = {}\n",
    "    acc = []\n",
    "    \n",
    "    \n",
    "    for i in range(10):\n",
    "        grid_search.fit(X_train[i], y_train[i])\n",
    "        best_parameters = grid_search.best_estimator_.get_params()\n",
    "        model = grid_search.best_estimator_.fit(X_train[i], y_train[i])\n",
    "        y_pred = model.predict(X_test[i])\n",
    "        acc_score = accuracy_score(y_test[i],y_pred)\n",
    "        acc.append(acc_score)\n",
    "        conf_mat = confusion_matrix(y_test[i],y_pred)\n",
    "        rjecnik[i+1] = (grid_search.best_score_, best_parameters['SVM__C'], best_parameters['SVM__gamma'], acc_score,\n",
    "                       conf_mat[1][1], conf_mat[0][1], conf_mat[1][0], conf_mat[0][0])\n",
    "        \n",
    "        \n",
    "    print(\"done in %0.3fs\" % (time() - t0))"
   ]
  },
  {
   "cell_type": "code",
   "execution_count": 20,
   "metadata": {},
   "outputs": [
    {
     "name": "stdout",
     "output_type": "stream",
     "text": [
      "Parametri dobiveni koristeći GridSearchCV:\n",
      "\n",
      "                 1          2         3          4          5          6   \\\n",
      "score      0.881720   0.887701  0.898396   0.887701   0.882353   0.877005   \n",
      "C          2.364489   1.484968  2.154435   1.484968   2.364489   1.963041   \n",
      "gamma      1.212209   1.414227  1.515236   1.919273   0.707164   0.505145   \n",
      "accuracy   0.909091   0.761905  0.857143   0.857143   0.857143   0.904762   \n",
      "TP         9.000000   6.000000  9.000000   7.000000   7.000000  10.000000   \n",
      "FP         1.000000   4.000000  1.000000   3.000000   3.000000   0.000000   \n",
      "FN         1.000000   1.000000  2.000000   0.000000   0.000000   2.000000   \n",
      "TN        11.000000  10.000000  9.000000  11.000000  11.000000   9.000000   \n",
      "\n",
      "                7          8         9         10  \n",
      "score     0.903743   0.898936  0.877660  0.904255  \n",
      "C         5.462277   2.364489  7.924829  4.132012  \n",
      "gamma     1.313218   1.010191  0.202118  1.111200  \n",
      "accuracy  0.761905   0.900000  0.850000  0.800000  \n",
      "TP        8.000000   8.000000  8.000000  7.000000  \n",
      "FP        2.000000   1.000000  1.000000  2.000000  \n",
      "FN        3.000000   1.000000  2.000000  2.000000  \n",
      "TN        8.000000  10.000000  9.000000  9.000000  \n",
      "\n",
      "Prosječna točnost SVM-a s rbf kernelom i parametrima dobivenim koristeći GridSearchCV je:\n",
      " 84.5909090909 %.\n"
     ]
    }
   ],
   "source": [
    "print(\"Parametri dobiveni koristeći GridSearchCV:\\n\")\n",
    "df = pd.DataFrame(rjecnik, index=['score', 'C', 'gamma', 'accuracy', 'TP', 'FP', 'FN', 'TN'])\n",
    "print(df)\n",
    "    \n",
    "avg_accuracy = np.average(acc)\n",
    "print(\"\\nProsječna točnost SVM-a s rbf kernelom i parametrima dobivenim koristeći GridSearchCV je:\\n\", \n",
    "      avg_accuracy*100, \"%.\")"
   ]
  },
  {
   "cell_type": "markdown",
   "metadata": {},
   "source": [
    "### 3.1. SVM koristeći RandomizedSearchCV"
   ]
  },
  {
   "cell_type": "code",
   "execution_count": 45,
   "metadata": {},
   "outputs": [
    {
     "name": "stdout",
     "output_type": "stream",
     "text": [
      "Performing randomized search...\n",
      "pipeline: ['SVM']\n",
      "done in 25.858s\n"
     ]
    }
   ],
   "source": [
    "pipeline = Pipeline( [ ('SVM', svm.SVC(kernel='rbf',probability=True)) ] )\n",
    "\n",
    "parameters = {\n",
    "    'SVM__C':stats.uniform(1, 100),\n",
    "    'SVM__gamma':stats.uniform(0.001, 1.0)\n",
    "}\n",
    "\n",
    "if __name__ == \"__main__\":\n",
    "    # multiprocessing requires the fork to happen in a __main__ protected block\n",
    "    # default scoring je accuracy koji mi želimo\n",
    "    randomized_search = RandomizedSearchCV(pipeline, parameters, n_iter=100, random_state=2018, cv=3)\n",
    "    \n",
    "    print(\"Performing randomized search...\")\n",
    "    print(\"pipeline:\", [name for name, _ in pipeline.steps])\n",
    "    t0 = time()\n",
    "    rjecnik = {}\n",
    "    acc = []\n",
    "    for i in range(10):\n",
    "        randomized_search.fit(X_train[i], y_train[i])\n",
    "        best_parameters = randomized_search.best_estimator_.get_params() \n",
    "        model = randomized_search.best_estimator_.fit(X_train[i], y_train[i])\n",
    "        y_pred = model.predict(X_test[i])\n",
    "        acc_score = accuracy_score(y_test[i],y_pred)\n",
    "        acc.append(acc_score)\n",
    "        conf_mat = confusion_matrix(y_test[i],y_pred)\n",
    "        rjecnik[i+1] = (randomized_search.best_score_, best_parameters['SVM__C'], best_parameters['SVM__gamma'], acc_score,\n",
    "                        conf_mat[1][1], conf_mat[0][1], conf_mat[1][0], conf_mat[0][0])\n",
    "        \n",
    "    print(\"done in %0.3fs\" % (time() - t0))"
   ]
  },
  {
   "cell_type": "code",
   "execution_count": 46,
   "metadata": {},
   "outputs": [
    {
     "name": "stdout",
     "output_type": "stream",
     "text": [
      "Parametri dobiveni koristeći RandomizedSearchCV:\n",
      "\n",
      "                 1          2          3          4          5          6   \\\n",
      "score      0.865591   0.871658   0.877005   0.887701   0.871658   0.871658   \n",
      "C         84.711110  14.739854  26.269136  42.686251  18.684085  76.709253   \n",
      "gamma      0.698801   0.691222   0.558125   0.172810   0.580103   1.000671   \n",
      "accuracy   0.954545   0.857143   0.904762   0.761905   0.952381   0.904762   \n",
      "TP        10.000000   7.000000   9.000000   7.000000   9.000000   9.000000   \n",
      "FP         0.000000   3.000000   1.000000   3.000000   1.000000   1.000000   \n",
      "FN         1.000000   0.000000   1.000000   2.000000   0.000000   1.000000   \n",
      "TN        11.000000  11.000000  10.000000   9.000000  11.000000  10.000000   \n",
      "\n",
      "                 7          8          9          10  \n",
      "score      0.893048   0.904255   0.867021   0.893617  \n",
      "C         76.709253  88.424103  88.424103  76.709253  \n",
      "gamma      1.000671   0.482205   0.482205   1.000671  \n",
      "accuracy   0.761905   0.850000   0.850000   0.800000  \n",
      "TP         8.000000   7.000000   7.000000   7.000000  \n",
      "FP         2.000000   2.000000   2.000000   2.000000  \n",
      "FN         3.000000   1.000000   1.000000   2.000000  \n",
      "TN         8.000000  10.000000  10.000000   9.000000  \n",
      "\n",
      "Prosječna točnost SVM-a s rbf kernelom i parametrima dobivenim koristeći RandomizedSearchCV je:\n",
      " 85.974025974 %.\n"
     ]
    }
   ],
   "source": [
    "print(\"Parametri dobiveni koristeći RandomizedSearchCV:\\n\")\n",
    "df = pd.DataFrame(rjecnik, index=['score', 'C', 'gamma', 'accuracy', 'TP', 'FP', 'FN', 'TN'])\n",
    "print(df)\n",
    "    \n",
    "avg_accuracy = np.average(acc)\n",
    "print(\"\\nProsječna točnost SVM-a s rbf kernelom i parametrima dobivenim koristeći RandomizedSearchCV je:\\n\", \n",
    "      avg_accuracy*100, \"%.\")"
   ]
  },
  {
   "cell_type": "code",
   "execution_count": null,
   "metadata": {
    "collapsed": true
   },
   "outputs": [],
   "source": []
  }
 ],
 "metadata": {
  "kernelspec": {
   "display_name": "Python 3",
   "language": "python",
   "name": "python3"
  },
  "language_info": {
   "codemirror_mode": {
    "name": "ipython",
    "version": 3
   },
   "file_extension": ".py",
   "mimetype": "text/x-python",
   "name": "python",
   "nbconvert_exporter": "python",
   "pygments_lexer": "ipython3",
   "version": "3.6.2"
  }
 },
 "nbformat": 4,
 "nbformat_minor": 2
}
