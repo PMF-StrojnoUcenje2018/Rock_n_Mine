{
 "cells": [
  {
   "cell_type": "markdown",
   "metadata": {},
   "source": [
    "# Klasifikacija mina i kamenja u sonar datasetu "
   ]
  },
  {
   "cell_type": "markdown",
   "metadata": {},
   "source": [
    "### Autori: Alen Andrašek, Monika Majstorović, Luka Valenta "
   ]
  },
  {
   "cell_type": "markdown",
   "metadata": {},
   "source": [
    "Ovaj notebook napravljen je za potrebe kolegija Strojno učenje na PMF-u Sveučilišta u Zagrebu kao realizacija projektnog zadatka u akademskoj godini 2017./2018. "
   ]
  },
  {
   "cell_type": "markdown",
   "metadata": {},
   "source": [
    "Mentori:\n",
    "- Tomislav Šmuc, prof.\n",
    "- Tomislav Lipić, asist.\n",
    "- Matija Piškorec, asist."
   ]
  },
  {
   "cell_type": "markdown",
   "metadata": {},
   "source": [
    "Cilj ovog notebooka jest pokazati primjer metodologije pri odabiru modela, obradi podataka i općenito realizaciji projekta. Bit će koncipiran kao tutorijal za provedbu projekta \"od nule\" (tj. počevši od dataseta)."
   ]
  },
  {
   "cell_type": "markdown",
   "metadata": {},
   "source": [
    "Dataset kojeg koristimo naziva se Connectionist Bench (Sonar, Mines vs. Rocks) Data Set (skraćeno: sonar dataset) i skinut je s UCI repozitorija za strojno učenje."
   ]
  },
  {
   "cell_type": "markdown",
   "metadata": {},
   "source": [
    "##  1. O datasetu"
   ]
  },
  {
   "cell_type": "markdown",
   "metadata": {},
   "source": [
    "Prvo pitanje koje si postavljamo kada pred sobom imamo dataset jest: koji problem rješavamo pomoću ovog dataseta?\n",
    "\n",
    "U opisu sonar dataseta dostupnom na [ref] saznajemo da je za svaki uzorak u datasetu poznato radi li se o mini ili kamenu te da je zadatak klasifikacija podataka u te dvije skupine.\n",
    "Dakle, radi se o **nadziranom učenju** i problemu **binarne klasifikacije**."
   ]
  },
  {
   "cell_type": "markdown",
   "metadata": {},
   "source": [
    "Kako izgleda dataset?\n",
    "\n",
    "Iz [ref] također saznajemo da dataset sadrži 208 podataka. Svaki od njih ima 60 značajki čije su vrijednosti između 0.0 i 1.0 te oznaku klase 'R' ili 'M' ovisno o tome pripada li podatak kamenu ili mini. Ukupno ima 111 podataka koji pripadaju minama i 97 koji pripadaju kamenju. Nema vrijednosti koje nedostaju.\n",
    "\n",
    "Pokažimo kako bismo to ispitali koristeći pandas:"
   ]
  },
  {
   "cell_type": "code",
   "execution_count": 18,
   "metadata": {
    "collapsed": true
   },
   "outputs": [],
   "source": [
    "import pandas as pd\n",
    "import matplotlib.pyplot as plt\n",
    "import numpy as np"
   ]
  },
  {
   "cell_type": "code",
   "execution_count": 19,
   "metadata": {},
   "outputs": [
    {
     "data": {
      "text/html": [
       "<div>\n",
       "<style>\n",
       "    .dataframe thead tr:only-child th {\n",
       "        text-align: right;\n",
       "    }\n",
       "\n",
       "    .dataframe thead th {\n",
       "        text-align: left;\n",
       "    }\n",
       "\n",
       "    .dataframe tbody tr th {\n",
       "        vertical-align: top;\n",
       "    }\n",
       "</style>\n",
       "<table border=\"1\" class=\"dataframe\">\n",
       "  <thead>\n",
       "    <tr style=\"text-align: right;\">\n",
       "      <th></th>\n",
       "      <th>1</th>\n",
       "      <th>2</th>\n",
       "      <th>3</th>\n",
       "      <th>4</th>\n",
       "      <th>5</th>\n",
       "      <th>6</th>\n",
       "      <th>7</th>\n",
       "      <th>8</th>\n",
       "      <th>9</th>\n",
       "      <th>10</th>\n",
       "      <th>...</th>\n",
       "      <th>52</th>\n",
       "      <th>53</th>\n",
       "      <th>54</th>\n",
       "      <th>55</th>\n",
       "      <th>56</th>\n",
       "      <th>57</th>\n",
       "      <th>58</th>\n",
       "      <th>59</th>\n",
       "      <th>60</th>\n",
       "      <th>Class</th>\n",
       "    </tr>\n",
       "  </thead>\n",
       "  <tbody>\n",
       "    <tr>\n",
       "      <th>0</th>\n",
       "      <td>0.0200</td>\n",
       "      <td>0.0371</td>\n",
       "      <td>0.0428</td>\n",
       "      <td>0.0207</td>\n",
       "      <td>0.0954</td>\n",
       "      <td>0.0986</td>\n",
       "      <td>0.1539</td>\n",
       "      <td>0.1601</td>\n",
       "      <td>0.3109</td>\n",
       "      <td>0.2111</td>\n",
       "      <td>...</td>\n",
       "      <td>0.0027</td>\n",
       "      <td>0.0065</td>\n",
       "      <td>0.0159</td>\n",
       "      <td>0.0072</td>\n",
       "      <td>0.0167</td>\n",
       "      <td>0.0180</td>\n",
       "      <td>0.0084</td>\n",
       "      <td>0.0090</td>\n",
       "      <td>0.0032</td>\n",
       "      <td>R</td>\n",
       "    </tr>\n",
       "    <tr>\n",
       "      <th>1</th>\n",
       "      <td>0.0453</td>\n",
       "      <td>0.0523</td>\n",
       "      <td>0.0843</td>\n",
       "      <td>0.0689</td>\n",
       "      <td>0.1183</td>\n",
       "      <td>0.2583</td>\n",
       "      <td>0.2156</td>\n",
       "      <td>0.3481</td>\n",
       "      <td>0.3337</td>\n",
       "      <td>0.2872</td>\n",
       "      <td>...</td>\n",
       "      <td>0.0084</td>\n",
       "      <td>0.0089</td>\n",
       "      <td>0.0048</td>\n",
       "      <td>0.0094</td>\n",
       "      <td>0.0191</td>\n",
       "      <td>0.0140</td>\n",
       "      <td>0.0049</td>\n",
       "      <td>0.0052</td>\n",
       "      <td>0.0044</td>\n",
       "      <td>R</td>\n",
       "    </tr>\n",
       "    <tr>\n",
       "      <th>2</th>\n",
       "      <td>0.0262</td>\n",
       "      <td>0.0582</td>\n",
       "      <td>0.1099</td>\n",
       "      <td>0.1083</td>\n",
       "      <td>0.0974</td>\n",
       "      <td>0.2280</td>\n",
       "      <td>0.2431</td>\n",
       "      <td>0.3771</td>\n",
       "      <td>0.5598</td>\n",
       "      <td>0.6194</td>\n",
       "      <td>...</td>\n",
       "      <td>0.0232</td>\n",
       "      <td>0.0166</td>\n",
       "      <td>0.0095</td>\n",
       "      <td>0.0180</td>\n",
       "      <td>0.0244</td>\n",
       "      <td>0.0316</td>\n",
       "      <td>0.0164</td>\n",
       "      <td>0.0095</td>\n",
       "      <td>0.0078</td>\n",
       "      <td>R</td>\n",
       "    </tr>\n",
       "    <tr>\n",
       "      <th>3</th>\n",
       "      <td>0.0100</td>\n",
       "      <td>0.0171</td>\n",
       "      <td>0.0623</td>\n",
       "      <td>0.0205</td>\n",
       "      <td>0.0205</td>\n",
       "      <td>0.0368</td>\n",
       "      <td>0.1098</td>\n",
       "      <td>0.1276</td>\n",
       "      <td>0.0598</td>\n",
       "      <td>0.1264</td>\n",
       "      <td>...</td>\n",
       "      <td>0.0121</td>\n",
       "      <td>0.0036</td>\n",
       "      <td>0.0150</td>\n",
       "      <td>0.0085</td>\n",
       "      <td>0.0073</td>\n",
       "      <td>0.0050</td>\n",
       "      <td>0.0044</td>\n",
       "      <td>0.0040</td>\n",
       "      <td>0.0117</td>\n",
       "      <td>R</td>\n",
       "    </tr>\n",
       "    <tr>\n",
       "      <th>4</th>\n",
       "      <td>0.0762</td>\n",
       "      <td>0.0666</td>\n",
       "      <td>0.0481</td>\n",
       "      <td>0.0394</td>\n",
       "      <td>0.0590</td>\n",
       "      <td>0.0649</td>\n",
       "      <td>0.1209</td>\n",
       "      <td>0.2467</td>\n",
       "      <td>0.3564</td>\n",
       "      <td>0.4459</td>\n",
       "      <td>...</td>\n",
       "      <td>0.0031</td>\n",
       "      <td>0.0054</td>\n",
       "      <td>0.0105</td>\n",
       "      <td>0.0110</td>\n",
       "      <td>0.0015</td>\n",
       "      <td>0.0072</td>\n",
       "      <td>0.0048</td>\n",
       "      <td>0.0107</td>\n",
       "      <td>0.0094</td>\n",
       "      <td>R</td>\n",
       "    </tr>\n",
       "  </tbody>\n",
       "</table>\n",
       "<p>5 rows × 61 columns</p>\n",
       "</div>"
      ],
      "text/plain": [
       "        1       2       3       4       5       6       7       8       9  \\\n",
       "0  0.0200  0.0371  0.0428  0.0207  0.0954  0.0986  0.1539  0.1601  0.3109   \n",
       "1  0.0453  0.0523  0.0843  0.0689  0.1183  0.2583  0.2156  0.3481  0.3337   \n",
       "2  0.0262  0.0582  0.1099  0.1083  0.0974  0.2280  0.2431  0.3771  0.5598   \n",
       "3  0.0100  0.0171  0.0623  0.0205  0.0205  0.0368  0.1098  0.1276  0.0598   \n",
       "4  0.0762  0.0666  0.0481  0.0394  0.0590  0.0649  0.1209  0.2467  0.3564   \n",
       "\n",
       "       10  ...        52      53      54      55      56      57      58  \\\n",
       "0  0.2111  ...    0.0027  0.0065  0.0159  0.0072  0.0167  0.0180  0.0084   \n",
       "1  0.2872  ...    0.0084  0.0089  0.0048  0.0094  0.0191  0.0140  0.0049   \n",
       "2  0.6194  ...    0.0232  0.0166  0.0095  0.0180  0.0244  0.0316  0.0164   \n",
       "3  0.1264  ...    0.0121  0.0036  0.0150  0.0085  0.0073  0.0050  0.0044   \n",
       "4  0.4459  ...    0.0031  0.0054  0.0105  0.0110  0.0015  0.0072  0.0048   \n",
       "\n",
       "       59      60  Class  \n",
       "0  0.0090  0.0032      R  \n",
       "1  0.0052  0.0044      R  \n",
       "2  0.0095  0.0078      R  \n",
       "3  0.0040  0.0117      R  \n",
       "4  0.0107  0.0094      R  \n",
       "\n",
       "[5 rows x 61 columns]"
      ]
     },
     "execution_count": 19,
     "metadata": {},
     "output_type": "execute_result"
    }
   ],
   "source": [
    "# Učitamo dataset i dodijelimo imena stupcima\n",
    "\n",
    "url = \"https://archive.ics.uci.edu/ml/machine-learning-databases/undocumented/connectionist-bench/sonar/sonar.all-data\"\n",
    "\n",
    "colNames = []\n",
    "for i in range(60):\n",
    "    colNames.append(i+1)\n",
    "colNames.append(\"Class\")\n",
    "\n",
    "sonar = pd.read_csv(url,names=colNames,header=None)\n",
    "sonar.head()"
   ]
  },
  {
   "cell_type": "code",
   "execution_count": 20,
   "metadata": {
    "scrolled": true
   },
   "outputs": [
    {
     "data": {
      "text/plain": [
       "(208, 61)"
      ]
     },
     "execution_count": 20,
     "metadata": {},
     "output_type": "execute_result"
    }
   ],
   "source": [
    "sonar.shape  # Dataframe ima 208 redaka i 61 stupac."
   ]
  },
  {
   "cell_type": "code",
   "execution_count": 21,
   "metadata": {},
   "outputs": [
    {
     "data": {
      "text/plain": [
       "1    float64\n",
       "2    float64\n",
       "3    float64\n",
       "4    float64\n",
       "5    float64\n",
       "dtype: object"
      ]
     },
     "execution_count": 21,
     "metadata": {},
     "output_type": "execute_result"
    }
   ],
   "source": [
    "sonar.dtypes.head()  #Tipovi podataka u dataframeu."
   ]
  },
  {
   "cell_type": "code",
   "execution_count": 22,
   "metadata": {},
   "outputs": [
    {
     "data": {
      "text/plain": [
       "Class\n",
       "M    111\n",
       "R     97\n",
       "dtype: int64"
      ]
     },
     "execution_count": 22,
     "metadata": {},
     "output_type": "execute_result"
    }
   ],
   "source": [
    "sonar.groupby('Class').size()  # Želimo saznati koliko ima podataka određene klase."
   ]
  },
  {
   "cell_type": "code",
   "execution_count": 23,
   "metadata": {},
   "outputs": [
    {
     "data": {
      "text/plain": [
       "False"
      ]
     },
     "execution_count": 23,
     "metadata": {},
     "output_type": "execute_result"
    }
   ],
   "source": [
    "sonar.isnull().any().any()  # Ima li vrijednosti koje nedostaju?"
   ]
  },
  {
   "cell_type": "markdown",
   "metadata": {},
   "source": [
    "Sonar dataset je mali. Kod malih datasetova veći problem nego kod velikih datasetova mogu prestavljati:\n",
    "-  vrijednosti koje nedostaju\n",
    "-  buka\n",
    "-  overfitting\n",
    "\n",
    "Više o načinu pristupa malim datasetovima u strojnom učenju pročitajte u članku [ref].\n",
    "\n",
    "Već smo pokazali da nema vrijednosti koje nedostaju u sonar datasetu.\n",
    "\n",
    "Pretpostavljamo da je buka u datasetu minimalna zbog načina prikupljanja i obrade podataka prije nego što su ušli u dataset. Naime, podaci su skupljeni tako što su na pjeskovito morsko dno stavljeni metalni cilindar i kamenje otprilike\n",
    "cilindričnog oblika, oboje duljine oko 1.52 m (5 ft) te je pomoću sonara emitiran signal. Jeka je prikupljena s udaljenosti 10 m te iz kuteva raspona do 90° za cilindar i raspona do 180° za kamen. **Od 1200 primljenih zvukova, odabrano ih je 208 koji su imali omjer šuma i signala između 4 dB i 15 dB.** Daljnjom spektralnom analizom signala te normalizacijom dobivenih podataka svaki od 208 signala predstavljen je konačno 60-dimenzionalnim vektorom u kojem svaka komponenta poprima vrijednosti između 0.0 i 1.0.\n",
    "\n",
    "Za rješavanje problema overfittinga preporučuje se odabir jednostavnijih modela poput logističke regresije, k-Nearest Neighbours (k-NN), Support Vector Machine (SVM), Random Forest (dodati još, ne sjećam se). \n",
    "\n",
    "Mi smo odabrali SVM i k-NN. Njihov performans na kraju ćemo usporediti.\n",
    "\n"
   ]
  },
  {
   "cell_type": "code",
   "execution_count": 24,
   "metadata": {},
   "outputs": [],
   "source": [
    "# Koreliranost klasa\n",
    "rock = sonar.loc[ sonar['Class'] == 'R', : ]\n",
    "mine = sonar.loc[ sonar['Class'] == 'M', : ]\n",
    "\n",
    "fig, axes = plt.subplots(30, 2, figsize=(50,50))\n",
    "ax = axes.ravel() # axes are 2-dimensional so we unfold them\n",
    "for i in range(60):\n",
    "    _, bins = np.histogram(sonar.iloc[:,i], bins=30)\n",
    "    ax[i].hist(rock.iloc[:,i], bins=bins, color='r', alpha=.5, label='rock')\n",
    "    ax[i].hist(mine.iloc[:,i], bins=bins, color='b', alpha=.5, label='mine')\n",
    "    ax[i].set_title(sonar.columns.values[i])\n",
    "    ax[i].set_yticks(()) # remove ticks on y-axis\n",
    "    ax[i].legend(loc='upper right')\n",
    "fig.tight_layout();"
   ]
  },
  {
   "cell_type": "markdown",
   "metadata": {},
   "source": [
    "Nećemo vršiti standardizaciju podataka prije PCA jer su nam podaci istog tipa i u istoj mjernoj jedinici.\n",
    "[ref = https://www.researchgate.net/post/What_is_the_best_way_to_scale_parameters_before_running_a_Principal_Component_Analysis_PCA]"
   ]
  },
  {
   "cell_type": "code",
   "execution_count": 25,
   "metadata": {},
   "outputs": [],
   "source": [
    "sonar_y = [] # target array (niz čiji elementi govore je li odgovarajući element tog indexa u datasetu sonar R ili M)\n",
    "for i in range(97):\n",
    "    sonar_y.append(0) # 0 označavaju R\n",
    "for i in range(111):\n",
    "    sonar_y.append(1) # 1 označavaju M\n",
    "sonar_y = np.array(sonar_y)\n",
    "\n",
    "sonar_bez_Class = sonar.drop('Class', axis=1) # uklonimo zadnji stupac Class iz sonar dataframea\n",
    "sonar_X = np.array(sonar_bez_Class.values)\n",
    "\n",
    "# sonar_y i sonar_X moraju biti np.array jer fja split prima samo objekte tog tipa"
   ]
  },
  {
   "cell_type": "markdown",
   "metadata": {},
   "source": []
  },
  {
   "cell_type": "code",
   "execution_count": 26,
   "metadata": {},
   "outputs": [
    {
     "name": "stdout",
     "output_type": "stream",
     "text": [
      "Target varijabla nakon miješanja: \n",
      " [1 0 0 0 1 0 1 1 0 1 1 0 1 1 1 1 1 1 0 0 1 1 1 1 0 0 0 0 1 1 1 0 0 1 1 1 1\n",
      " 1 0 1 0 1 0 1 0 0 1 1 0 0 0 1 0 0 0 0 1 1 0 1 0 1 1 1 1 1 0 0 0 0 0 0 1 1\n",
      " 0 1 1 0 0 1 0 1 0 1 1 1 0 0 0 1 1 0 0 1 0 1 0 0 1 1 0 0 1 1 0 0 1 1 1 0 0\n",
      " 1 1 1 1 1 0 0 1 1 1 0 1 1 0 1 0 0 1 0 1 0 1 1 0 0 1 0 0 1 0 1 0 1 0 1 1 1\n",
      " 1 0 0 0 0 1 0 0 1 1 0 0 0 0 1 1 0 0 1 1 1 1 0 0 1 0 1 1 1 0 0 0 0 0 1 1 1\n",
      " 0 1 1 0 0 1 1 1 1 1 1 0 0 1 1 0 1 0 1 0 0 1 1]\n"
     ]
    }
   ],
   "source": [
    "# shuffle\n",
    "from sklearn.utils import shuffle\n",
    "\n",
    "random_state = 42\n",
    "# fiksiranje broja random state omogućuje da svaki put kada opet runamo ovaj kod, dobijemo istu podjelu na subsetove\n",
    "# ovaj broj kojim fiksiramo odabran je nasumično\n",
    "\n",
    "X,y = shuffle(sonar_X,sonar_y,random_state=random_state)\n",
    "print(\"Target varijabla nakon miješanja: \\n\", y)"
   ]
  },
  {
   "cell_type": "markdown",
   "metadata": {},
   "source": [
    "## 2. PCA"
   ]
  },
  {
   "cell_type": "markdown",
   "metadata": {},
   "source": []
  },
  {
   "cell_type": "code",
   "execution_count": 27,
   "metadata": {
    "collapsed": true
   },
   "outputs": [],
   "source": [
    "from sklearn.decomposition import PCA"
   ]
  },
  {
   "cell_type": "code",
   "execution_count": 28,
   "metadata": {},
   "outputs": [
    {
     "name": "stdout",
     "output_type": "stream",
     "text": [
      "Broj dimenzija nakon PCA:  17\n"
     ]
    }
   ],
   "source": [
    "#PCA\n",
    "\n",
    "pca = PCA(.95) #  Zadržat ćemo 95% varijance (95% se inače uzima, mi se možemo dogovoriti i za manji broj)\n",
    "brojKomponenti = [] # Usput ćemo i bilježiti koliko komponenti smo uzeli za svaki skup, tj. kolika nam je sada dimenz.\n",
    "\n",
    "pca.fit(X)\n",
    "brojKomponenti = pca.n_components_\n",
    "X = pca.transform(X)\n",
    "\n",
    "print(\"Broj dimenzija nakon PCA: \", brojKomponenti)"
   ]
  },
  {
   "cell_type": "code",
   "execution_count": 29,
   "metadata": {
    "collapsed": true
   },
   "outputs": [],
   "source": [
    "from sklearn.model_selection import RepeatedStratifiedKFold\n",
    "\n",
    "random_state = 164981614\n",
    "\n",
    "rskf = RepeatedStratifiedKFold(n_splits=10, n_repeats=1, random_state=random_state)\n",
    "\n",
    "X_train, X_test, y_train, y_test = [], [], [], []\n",
    "\n",
    "for train_index, test_index in rskf.split(X, y):\n",
    "    X_train.append(X[train_index])\n",
    "    X_test.append(X[test_index])\n",
    "    y_train.append(y[train_index])\n",
    "    y_test.append(y[test_index])"
   ]
  },
  {
   "cell_type": "code",
   "execution_count": 30,
   "metadata": {},
   "outputs": [
    {
     "name": "stdout",
     "output_type": "stream",
     "text": [
      "Veličina prvog train seta:  186\n",
      "Veličina prvog test seta:  22\n",
      "186 + 22 = 208\n"
     ]
    }
   ],
   "source": [
    "print(\"Veličina prvog train seta: \", len(X_train[0]))\n",
    "print(\"Veličina prvog test seta: \", len(X_test[0]))\n",
    "print(len(X_train[0]), \"+\", len(X_test[0]), \"=\", len(X_train[0])+len(X_test[0]))"
   ]
  },
  {
   "cell_type": "markdown",
   "metadata": {},
   "source": [
    "## 3. SVM"
   ]
  },
  {
   "cell_type": "markdown",
   "metadata": {},
   "source": []
  },
  {
   "cell_type": "code",
   "execution_count": 31,
   "metadata": {
    "collapsed": true
   },
   "outputs": [],
   "source": [
    "# SVM\n",
    "\n",
    "from time import time\n",
    "from sklearn.model_selection import GridSearchCV, RandomizedSearchCV  # In new version (0.19. it's in model_selection module!)\n",
    "from sklearn.pipeline import Pipeline\n",
    "from sklearn import svm\n",
    "from sklearn.metrics import accuracy_score, classification_report, confusion_matrix\n",
    "from scipy import stats"
   ]
  },
  {
   "cell_type": "markdown",
   "metadata": {},
   "source": [
    "### 3.1. SVM koristeći GridSearchCV"
   ]
  },
  {
   "cell_type": "code",
   "execution_count": 32,
   "metadata": {},
   "outputs": [
    {
     "name": "stdout",
     "output_type": "stream",
     "text": [
      "Performing grid search...\n",
      "pipeline: ['SVM']\n",
      "parameters:\n",
      "{'SVM__C': (1.0, 10.0, 100.0, 1000.0), 'SVM__gamma': (0.001, 0.01, 0.1, 1.0)}\n",
      "done in 3.328s\n"
     ]
    }
   ],
   "source": [
    "pipeline = Pipeline( [ ('SVM', svm.SVC(kernel='rbf',probability=True)) ] )\n",
    "\n",
    "parameters = {\n",
    "    'SVM__C':(1.0,10.0,100.0,1000.0),\n",
    "    'SVM__gamma':(0.001,0.01,0.1,1.0)\n",
    "    #'SVM__C': np.logspace(-1, 3, 100),\n",
    "    #'SVM__gamma': np.linspace(0.0001, 10, 100)\n",
    "}\n",
    "\n",
    "if __name__ == \"__main__\":\n",
    "    # multiprocessing requires the fork to happen in a __main__ protected block\n",
    "    grid_search = GridSearchCV(pipeline, parameters, cv=3)\n",
    "    # default scoring je accuracy koji mi želimo\n",
    "\n",
    "    print(\"Performing grid search...\")\n",
    "    print(\"pipeline:\", [name for name, _ in pipeline.steps])\n",
    "    print(\"parameters:\")\n",
    "    print(parameters)\n",
    "    t0 = time()\n",
    "    rjecnik = {}\n",
    "    acc = []\n",
    "    \n",
    "    \n",
    "    for i in range(10):\n",
    "        grid_search.fit(X_train[i], y_train[i])\n",
    "        best_parameters = grid_search.best_estimator_.get_params()\n",
    "        model = grid_search.best_estimator_.fit(X_train[i], y_train[i])\n",
    "        y_pred = model.predict(X_test[i])\n",
    "        acc_score = accuracy_score(y_test[i],y_pred)\n",
    "        acc.append(acc_score)\n",
    "        conf_mat = confusion_matrix(y_test[i],y_pred)\n",
    "        rjecnik[i+1] = (grid_search.best_score_, best_parameters['SVM__C'], best_parameters['SVM__gamma'], acc_score,\n",
    "                       conf_mat[1][1], conf_mat[0][1], conf_mat[1][0], conf_mat[0][0])\n",
    "        \n",
    "        \n",
    "    print(\"done in %0.3fs\" % (time() - t0))"
   ]
  },
  {
   "cell_type": "code",
   "execution_count": 33,
   "metadata": {},
   "outputs": [
    {
     "name": "stdout",
     "output_type": "stream",
     "text": [
      "Parametri dobiveni koristeći GridSearchCV:\n",
      "\n",
      "                  1         2         3           4            5          6   \\\n",
      "score       0.860215  0.855615  0.877005    0.871658     0.866310   0.871658   \n",
      "C         100.000000  1.000000  1.000000  100.000000  1000.000000  10.000000   \n",
      "gamma       1.000000  1.000000  1.000000    0.100000     0.100000   1.000000   \n",
      "accuracy    0.909091  0.714286  0.857143    0.809524     0.904762   0.904762   \n",
      "TP         11.000000  8.000000  9.000000    9.000000    11.000000  10.000000   \n",
      "FP          1.000000  3.000000  1.000000    2.000000     2.000000   1.000000   \n",
      "FN          1.000000  3.000000  2.000000    2.000000     0.000000   1.000000   \n",
      "TN          9.000000  7.000000  9.000000    8.000000     8.000000   9.000000   \n",
      "\n",
      "                 7            8          9          10  \n",
      "score      0.893048     0.888298   0.856383   0.893617  \n",
      "C         10.000000  1000.000000  10.000000  10.000000  \n",
      "gamma      1.000000     0.100000   1.000000   1.000000  \n",
      "accuracy   0.761905     0.850000   0.800000   0.800000  \n",
      "TP         8.000000    10.000000   9.000000   9.000000  \n",
      "FP         2.000000     2.000000   2.000000   2.000000  \n",
      "FN         3.000000     1.000000   2.000000   2.000000  \n",
      "TN         8.000000     7.000000   7.000000   7.000000  \n",
      "\n",
      "Prosječna točnost SVM-a s rbf kernelom i parametrima dobivenim koristeći GridSearchCV je:\n",
      " 83.1147186147 %.\n"
     ]
    }
   ],
   "source": [
    "print(\"Parametri dobiveni koristeći GridSearchCV:\\n\")\n",
    "df = pd.DataFrame(rjecnik, index=['score', 'C', 'gamma', 'accuracy', 'TP', 'FP', 'FN', 'TN'])\n",
    "print(df)\n",
    "    \n",
    "avg_accuracy = np.average(acc)\n",
    "print(\"\\nProsječna točnost SVM-a s rbf kernelom i parametrima dobivenim koristeći GridSearchCV je:\\n\", \n",
    "      avg_accuracy*100, \"%.\")"
   ]
  },
  {
   "cell_type": "markdown",
   "metadata": {},
   "source": [
    "### 3.1. SVM koristeći RandomizedSearchCV"
   ]
  },
  {
   "cell_type": "code",
   "execution_count": 34,
   "metadata": {},
   "outputs": [
    {
     "name": "stdout",
     "output_type": "stream",
     "text": [
      "Performing randomized search...\n",
      "pipeline: ['SVM']\n",
      "done in 20.299s\n"
     ]
    }
   ],
   "source": [
    "pipeline = Pipeline( [ ('SVM', svm.SVC(kernel='rbf',probability=True)) ] )\n",
    "\n",
    "parameters = {\n",
    "    'SVM__C':stats.uniform(1, 100),\n",
    "    'SVM__gamma':stats.uniform(0.001, 1.0)\n",
    "}\n",
    "\n",
    "if __name__ == \"__main__\":\n",
    "    # multiprocessing requires the fork to happen in a __main__ protected block\n",
    "    # default scoring je accuracy koji mi želimo\n",
    "    randomized_search = RandomizedSearchCV(pipeline, parameters, n_iter=100, random_state=2018, cv=3)\n",
    "    \n",
    "    print(\"Performing randomized search...\")\n",
    "    print(\"pipeline:\", [name for name, _ in pipeline.steps])\n",
    "    t0 = time()\n",
    "    rjecnik = {}\n",
    "    acc = []\n",
    "    for i in range(10):\n",
    "        randomized_search.fit(X_train[i], y_train[i])\n",
    "        best_parameters = randomized_search.best_estimator_.get_params() \n",
    "        model = randomized_search.best_estimator_.fit(X_train[i], y_train[i])\n",
    "        y_pred = model.predict(X_test[i])\n",
    "        acc_score = accuracy_score(y_test[i],y_pred)\n",
    "        acc.append(acc_score)\n",
    "        conf_mat = confusion_matrix(y_test[i],y_pred)\n",
    "        rjecnik[i+1] = (randomized_search.best_score_, best_parameters['SVM__C'], best_parameters['SVM__gamma'], acc_score,\n",
    "                        conf_mat[1][1], conf_mat[0][1], conf_mat[1][0], conf_mat[0][0])\n",
    "        \n",
    "    print(\"done in %0.3fs\" % (time() - t0))"
   ]
  },
  {
   "cell_type": "code",
   "execution_count": 35,
   "metadata": {},
   "outputs": [
    {
     "name": "stdout",
     "output_type": "stream",
     "text": [
      "Parametri dobiveni koristeći RandomizedSearchCV:\n",
      "\n",
      "                 1          2          3          4          5          6   \\\n",
      "score      0.865591   0.871658   0.877005   0.887701   0.871658   0.871658   \n",
      "C         84.711110  14.739854  26.269136  42.686251  18.684085  76.709253   \n",
      "gamma      0.698801   0.691222   0.558125   0.172810   0.580103   1.000671   \n",
      "accuracy   0.954545   0.857143   0.904762   0.761905   0.952381   0.904762   \n",
      "TP        11.000000  11.000000  10.000000   9.000000  11.000000  10.000000   \n",
      "FP         0.000000   3.000000   1.000000   3.000000   1.000000   1.000000   \n",
      "FN         1.000000   0.000000   1.000000   2.000000   0.000000   1.000000   \n",
      "TN        10.000000   7.000000   9.000000   7.000000   9.000000   9.000000   \n",
      "\n",
      "                 7          8          9          10  \n",
      "score      0.893048   0.904255   0.867021   0.893617  \n",
      "C         76.709253  88.424103  88.424103  76.709253  \n",
      "gamma      1.000671   0.482205   0.482205   1.000671  \n",
      "accuracy   0.761905   0.850000   0.850000   0.800000  \n",
      "TP         8.000000  10.000000  10.000000   9.000000  \n",
      "FP         2.000000   2.000000   2.000000   2.000000  \n",
      "FN         3.000000   1.000000   1.000000   2.000000  \n",
      "TN         8.000000   7.000000   7.000000   7.000000  \n",
      "\n",
      "Prosječna točnost SVM-a s rbf kernelom i parametrima dobivenim koristeći RandomizedSearchCV je:\n",
      " 85.974025974 %.\n"
     ]
    }
   ],
   "source": [
    "print(\"Parametri dobiveni koristeći RandomizedSearchCV:\\n\")\n",
    "df = pd.DataFrame(rjecnik, index=['score', 'C', 'gamma', 'accuracy', 'TP', 'FP', 'FN', 'TN'])\n",
    "print(df)\n",
    "    \n",
    "avg_accuracy = np.average(acc)\n",
    "print(\"\\nProsječna točnost SVM-a s rbf kernelom i parametrima dobivenim koristeći RandomizedSearchCV je:\\n\", \n",
    "      avg_accuracy*100, \"%.\")"
   ]
  },
  {
   "cell_type": "markdown",
   "metadata": {
    "collapsed": true
   },
   "source": [
    "## 4. k-NN"
   ]
  },
  {
   "cell_type": "markdown",
   "metadata": {},
   "source": [
    "_k Nearest Neighbor_ prima neki training set i za nove podatke određuje većinskim glasovanjem kojoj klasi pripadaju, ovisno o tome kojeg tipa je _k najbližih susjeda_. Metrika može biti bilo koja, ali uobičajena je neka od: Euklidska $(L^2)$, Manhattan $(L^1)$ i Čebišev $(L^\\infty)$."
   ]
  },
  {
   "cell_type": "code",
   "execution_count": 48,
   "metadata": {},
   "outputs": [
    {
     "name": "stdout",
     "output_type": "stream",
     "text": [
      "done in 2.364s\n"
     ]
    }
   ],
   "source": [
    "from sklearn.neighbors import KNeighborsClassifier\n",
    "#parametar k biramo iz 1...10, i promatramo 3 metrike\n",
    "parameters = {'n_neighbors': list(range(1,11)),\n",
    "              'metric': ['chebyshev', 'euclidean', 'manhattan']}\n",
    "\n",
    "if __name__ == \"__main__\":\n",
    "    # multiprocessing requires the fork to happen in a __main__ protected block\n",
    "    # default scoring je accuracy koji mi želimo\n",
    "    grid_search = GridSearchCV(KNeighborsClassifier(weights='distance'), parameters, cv=3)\n",
    "\n",
    "    t0 = time()\n",
    "    rjecnik = {}\n",
    "    acc = []\n",
    "\n",
    "    for i in range(10):\n",
    "        grid_search.fit(X_train[i], y_train[i])\n",
    "        best_parameters = grid_search.best_estimator_.get_params()\n",
    "        model = grid_search.best_estimator_.fit(X_train[i], y_train[i])\n",
    "        y_pred = model.predict(X_test[i])\n",
    "        acc_score = accuracy_score(y_test[i],y_pred)\n",
    "        acc.append(acc_score)\n",
    "        conf_mat = confusion_matrix(y_test[i],y_pred)\n",
    "        rjecnik[i+1] = (grid_search.best_score_, best_parameters['n_neighbors'], best_parameters['metric'], acc_score,\n",
    "                       conf_mat[1][1], conf_mat[0][1], conf_mat[1][0], conf_mat[0][0])\n",
    "        \n",
    "    print(\"done in %0.3fs\" % (time() - t0))"
   ]
  },
  {
   "cell_type": "code",
   "execution_count": 49,
   "metadata": {},
   "outputs": [
    {
     "name": "stdout",
     "output_type": "stream",
     "text": [
      "                    1          2          3          4          5          6   \\\n",
      "score         0.822581   0.828877   0.850267   0.850267   0.850267   0.839572   \n",
      "n_neighbors          1          1          1          1          3          3   \n",
      "metric       chebyshev  chebyshev  chebyshev  chebyshev  euclidean  chebyshev   \n",
      "accuracy      0.954545   0.904762   0.809524   0.857143   0.857143   0.857143   \n",
      "TP                  11         10          9         11         10          9   \n",
      "FP                   0          1          2          3          2          1   \n",
      "FN                   1          1          2          0          1          2   \n",
      "TN                  10          9          8          7          8          9   \n",
      "\n",
      "                    7          8          9          10  \n",
      "score         0.855615    0.87766   0.829787   0.861702  \n",
      "n_neighbors          3          3          5          1  \n",
      "metric       euclidean  chebyshev  chebyshev  chebyshev  \n",
      "accuracy      0.619048        0.8       0.85        0.8  \n",
      "TP                   7         10         11         10  \n",
      "FP                   4          3          3          3  \n",
      "FN                   4          1          0          1  \n",
      "TN                   6          6          6          6  \n",
      "[0.95454545454545459, 0.90476190476190477, 0.80952380952380953, 0.8571428571428571, 0.8571428571428571, 0.8571428571428571, 0.61904761904761907, 0.80000000000000004, 0.84999999999999998, 0.80000000000000004]\n",
      "\n",
      "Prosječna točnost k-NN-a koristeći najbolju metriku je:\n",
      " 83.0930735931 %.\n"
     ]
    }
   ],
   "source": [
    "df = pd.DataFrame(rjecnik, index=['score', 'n_neighbors', 'metric', 'accuracy', 'TP', 'FP', 'FN', 'TN'])\n",
    "print(df)\n",
    "\n",
    "print(acc)\n",
    "avg_accuracy = np.average(acc)\n",
    "print(\"\\nProsječna točnost k-NN-a koristeći najbolju metriku je:\\n\", \n",
    "      avg_accuracy*100, \"%.\")"
   ]
  },
  {
   "cell_type": "markdown",
   "metadata": {},
   "source": [
    "## 5. Random Forest"
   ]
  },
  {
   "cell_type": "markdown",
   "metadata": {},
   "source": [
    "Glavni parametri u Random Forest su broj stabala *n_estimators* i broj korištenih feature-a u svakom stablu *max_features*."
   ]
  },
  {
   "cell_type": "code",
   "execution_count": 42,
   "metadata": {},
   "outputs": [
    {
     "name": "stdout",
     "output_type": "stream",
     "text": [
      "Parameter grid:\n",
      "{} {'n_estimators': [1, 3, 5, 7, 9, 11, 13, 15, 17, 19], 'max_features': [1, 2, 3, 4, 5, 6, 7, 8, 9, 10, 11, 12, 13, 14, 15, 16, 17]}\n",
      "done in 74.896s\n"
     ]
    }
   ],
   "source": [
    "from sklearn.ensemble import RandomForestClassifier\n",
    "\n",
    "# biramo broj stabala odlučivanja u šumi te broj značajki koje će Random Forest algoritam koristiti\n",
    "parameters = {'n_estimators': list(range(1,21,2)),\n",
    "              'max_features': list(range(1,18))}\n",
    "print(\"Parameter grid:\\n{}\",format(parameters))\n",
    "\n",
    "if __name__ == \"__main__\":\n",
    "    # multiprocessing requires the fork to happen in a __main__ protected block\n",
    "    # default scoring je accuracy koji mi želimo\n",
    "    grid_search = GridSearchCV(RandomForestClassifier(), parameters, cv=3)\n",
    "\n",
    "    t0 = time()\n",
    "    rjecnik = {}\n",
    "    acc = []\n",
    "\n",
    "    for i in range(10):\n",
    "        grid_search.fit(X_train[i], y_train[i])\n",
    "        best_parameters = grid_search.best_estimator_.get_params()\n",
    "        model = grid_search.best_estimator_.fit(X_train[i], y_train[i])\n",
    "        y_pred = model.predict(X_test[i])\n",
    "        acc_score = accuracy_score(y_test[i],y_pred)\n",
    "        acc.append(acc_score)\n",
    "        conf_mat = confusion_matrix(y_test[i],y_pred)\n",
    "        rjecnik[i+1] = (grid_search.best_score_, best_parameters['n_estimators'], best_parameters['max_features'], acc_score,\n",
    "                       conf_mat[1][1], conf_mat[0][1], conf_mat[1][0], conf_mat[0][0])\n",
    "        \n",
    "    print(\"done in %0.3fs\" % (time() - t0))"
   ]
  },
  {
   "cell_type": "code",
   "execution_count": 45,
   "metadata": {},
   "outputs": [
    {
     "name": "stdout",
     "output_type": "stream",
     "text": [
      "                    1          2          3          4          5          6   \\\n",
      "score         0.779570   0.791444   0.786096   0.802139   0.807487   0.796791   \n",
      "n_estimators  9.000000  15.000000  15.000000   7.000000  15.000000  13.000000   \n",
      "max_features  9.000000  13.000000  14.000000  12.000000   3.000000  15.000000   \n",
      "accuracy      0.818182   0.761905   0.809524   0.761905   0.761905   0.809524   \n",
      "TP            9.000000   9.000000   8.000000  10.000000   9.000000   9.000000   \n",
      "FP            1.000000   3.000000   1.000000   4.000000   3.000000   2.000000   \n",
      "FN            3.000000   2.000000   3.000000   1.000000   2.000000   2.000000   \n",
      "TN            9.000000   7.000000   9.000000   6.000000   7.000000   8.000000   \n",
      "\n",
      "                     7         8         9          10  \n",
      "score          0.786096  0.792553  0.787234   0.819149  \n",
      "n_estimators  19.000000  7.000000  7.000000  15.000000  \n",
      "max_features   6.000000  8.000000  7.000000  12.000000  \n",
      "accuracy       0.857143  0.700000  0.850000   0.600000  \n",
      "TP             8.000000  6.000000  9.000000   6.000000  \n",
      "FP             0.000000  1.000000  1.000000   3.000000  \n",
      "FN             3.000000  5.000000  2.000000   5.000000  \n",
      "TN            10.000000  8.000000  8.000000   6.000000  \n",
      "[0.81818181818181823, 0.76190476190476186, 0.80952380952380953, 0.76190476190476186, 0.76190476190476186, 0.80952380952380953, 0.8571428571428571, 0.69999999999999996, 0.84999999999999998, 0.59999999999999998]\n",
      "\n",
      "Prosječna točnost RandomForest:\n",
      " 77.3008658009 %.\n"
     ]
    }
   ],
   "source": [
    "df = pd.DataFrame(rjecnik, index=['score', 'n_estimators', 'max_features', 'accuracy', 'TP', 'FP', 'FN', 'TN'])\n",
    "print(df)\n",
    "\n",
    "print(acc)\n",
    "avg_accuracy = np.average(acc)\n",
    "print(\"\\nProsječna točnost RandomForest:\\n\", \n",
    "      avg_accuracy*100, \"%.\")"
   ]
  },
  {
   "cell_type": "code",
   "execution_count": null,
   "metadata": {
    "collapsed": true
   },
   "outputs": [],
   "source": []
  }
 ],
 "metadata": {
  "kernelspec": {
   "display_name": "Python 3",
   "language": "python",
   "name": "python3"
  },
  "language_info": {
   "codemirror_mode": {
    "name": "ipython",
    "version": 3
   },
   "file_extension": ".py",
   "mimetype": "text/x-python",
   "name": "python",
   "nbconvert_exporter": "python",
   "pygments_lexer": "ipython3",
   "version": "3.6.2"
  }
 },
 "nbformat": 4,
 "nbformat_minor": 2
}
