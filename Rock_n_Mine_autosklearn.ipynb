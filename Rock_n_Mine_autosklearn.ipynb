{
 "cells": [
  {
   "cell_type": "code",
   "execution_count": 21,
   "metadata": {},
   "outputs": [],
   "source": [
    "import pandas as pd\n",
    "import matplotlib.pyplot as plt\n",
    "import numpy as np\n",
    "from sklearn.utils import shuffle\n",
    "from sklearn.decomposition import PCA"
   ]
  },
  {
   "cell_type": "code",
   "execution_count": 22,
   "metadata": {},
   "outputs": [],
   "source": [
    "# Učitamo dataset i dodijelimo imena stupcima\n",
    "\n",
    "url = \"https://archive.ics.uci.edu/ml/machine-learning-databases/undocumented/connectionist-bench/sonar/sonar.all-data\"\n",
    "\n",
    "colNames = []\n",
    "for i in range(60):\n",
    "    colNames.append(i+1)\n",
    "colNames.append(\"Class\")\n",
    "\n",
    "sonar = pd.read_csv(url,names=colNames,header=None)"
   ]
  },
  {
   "cell_type": "code",
   "execution_count": 23,
   "metadata": {},
   "outputs": [],
   "source": [
    "# Koreliranost klasa\n",
    "rock = sonar.loc[ sonar['Class'] == 'R', : ]\n",
    "mine = sonar.loc[ sonar['Class'] == 'M', : ]\n",
    "\n",
    "sonar_y = [] # target array (niz čiji elementi govore je li odgovarajući element tog indexa u datasetu sonar R ili M)\n",
    "for i in range(97):\n",
    "    sonar_y.append(0) # 0 označavaju R\n",
    "for i in range(111):\n",
    "    sonar_y.append(1) # 1 označavaju M\n",
    "sonar_y = np.array(sonar_y)\n",
    "\n",
    "sonar_bez_Class = sonar.drop('Class', axis=1) # uklonimo zadnji stupac Class iz sonar dataframea\n",
    "sonar_X = np.array(sonar_bez_Class.values)\n",
    "\n",
    "# sonar_y i sonar_X moraju biti np.array jer fja split prima samo objekte tog tipa\n",
    "\n",
    "# shuffle\n",
    "\n",
    "random_state = 42\n",
    "# fiksiranje broja random state omogućuje da svaki put kada opet runamo ovaj kod, dobijemo istu podjelu na subsetove\n",
    "# ovaj broj kojim fiksiramo odabran je nasumično\n",
    "\n",
    "X,y = shuffle(sonar_X,sonar_y,random_state=random_state)\n",
    "\n",
    "#PCA\n",
    "\n",
    "pca = PCA(.95) #  Zadržat ćemo 95% varijance (95% se inače uzima, mi se možemo dogovoriti i za manji broj)\n",
    "brojKomponenti = [] # Usput ćemo i bilježiti koliko komponenti smo uzeli za svaki skup, tj. kolika nam je sada dimenz.\n",
    "\n",
    "pca.fit(X)\n",
    "brojKomponenti = pca.n_components_\n",
    "X = pca.transform(X)\n",
    "\n",
    "# Podjela u skupove za krosvalidaciju\n",
    "from sklearn.model_selection import RepeatedStratifiedKFold\n",
    "\n",
    "random_state = 164981614\n",
    "\n",
    "rskf = RepeatedStratifiedKFold(n_splits=10, n_repeats=1, random_state=random_state)\n",
    "\n",
    "X_train, X_test, y_train, y_test = [], [], [], []\n",
    "# možda će ih trebati pretvoriti u numpy array kasnije, ne znam\n",
    "\n",
    "for train_index, test_index in rskf.split(X, y):\n",
    "    X_train.append(X[train_index])\n",
    "    X_test.append(X[test_index])\n",
    "    y_train.append(y[train_index])\n",
    "    y_test.append(y[test_index])"
   ]
  },
  {
   "cell_type": "code",
   "execution_count": 24,
   "metadata": {},
   "outputs": [],
   "source": [
    "# https://automl.github.io/auto-sklearn/stable/api.html\n",
    "# popis argumenata za fju autosklearnclassifier \n",
    "\n",
    "import autosklearn.classification\n",
    "import sklearn.model_selection\n",
    "import sklearn.metrics"
   ]
  },
  {
   "cell_type": "code",
   "execution_count": null,
   "metadata": {
    "scrolled": true
   },
   "outputs": [],
   "source": [
    "automl = autosklearn.classification.AutoSklearnClassifier()\n",
    "rjecnik = {}\n",
    "acc = []\n",
    "\n",
    "for i in range(10):\n",
    "    automl.fit(X_train[i], y_train[i])\n",
    "    y_pred = automl.predict(X_test[i])\n",
    "    acc_score = accuracy_score(y_test[i], y_pred)\n",
    "    acc.append(acc_score)\n",
    "    rjecnik[i+1] = (acc_score)\n",
    "    print(\"i =\", i+1)\n",
    "    print(automl.sprint_statistics(), \"\\n\\n\")"
   ]
  },
  {
   "cell_type": "code",
   "execution_count": null,
   "metadata": {},
   "outputs": [],
   "source": [
    "print(\"Rezultati dobiveni koristeći autosklearn:\\n\")\n",
    "df = pd.DataFrame(rjecnik, index=['accuracy'])\n",
    "print(df.round(2))\n",
    "    \n",
    "avg_accuracy = np.average(acc)\n",
    "print(\"\\nProsječna točnost dobivena koristeći autosklearn je:\\n\", \n",
    "      avg_accuracy*100, \"%.\")"
   ]
  }
 ],
 "metadata": {
  "kernelspec": {
   "display_name": "Python 3",
   "language": "python",
   "name": "python3"
  },
  "language_info": {
   "codemirror_mode": {
    "name": "ipython",
    "version": 3
   },
   "file_extension": ".py",
   "mimetype": "text/x-python",
   "name": "python",
   "nbconvert_exporter": "python",
   "pygments_lexer": "ipython3",
   "version": "3.6.4"
  }
 },
 "nbformat": 4,
 "nbformat_minor": 2
}
