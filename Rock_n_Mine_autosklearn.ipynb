{
 "cells": [
  {
   "cell_type": "code",
   "execution_count": null,
   "metadata": {
    "collapsed": true
   },
   "outputs": [],
   "source": [
    "import pandas as pd\n",
    "import matplotlib.pyplot as plt\n",
    "import numpy as np\n",
    "from sklearn.utils import shuffle\n",
    "from sklearn.decomposition import PCA\n",
    "from time import time"
   ]
  },
  {
   "cell_type": "code",
   "execution_count": null,
   "metadata": {
    "collapsed": true
   },
   "outputs": [],
   "source": [
    "# Učitamo dataset i dodijelimo imena stupcima\n",
    "\n",
    "url = \"https://archive.ics.uci.edu/ml/machine-learning-databases/undocumented/connectionist-bench/sonar/sonar.all-data\"\n",
    "\n",
    "colNames = []\n",
    "for i in range(60):\n",
    "    colNames.append(i+1)\n",
    "colNames.append(\"Class\")\n",
    "\n",
    "sonar = pd.read_csv(url,names=colNames,header=None)"
   ]
  },
  {
   "cell_type": "code",
   "execution_count": null,
   "metadata": {
    "collapsed": true
   },
   "outputs": [],
   "source": [
    "rock = sonar.loc[ sonar['Class'] == 'R', : ]\n",
    "mine = sonar.loc[ sonar['Class'] == 'M', : ]\n",
    "\n",
    "sonar_y = [] # target array (niz čiji elementi govore je li odgovarajući element tog indexa u datasetu sonar R ili M)\n",
    "for i in range(97):\n",
    "    sonar_y.append(0) # 0 označavaju R\n",
    "for i in range(111):\n",
    "    sonar_y.append(1) # 1 označavaju M\n",
    "sonar_y = np.array(sonar_y)\n",
    "\n",
    "sonar_bez_Class = sonar.drop('Class', axis=1) # uklonimo zadnji stupac Class iz sonar dataframea\n",
    "sonar_X = np.array(sonar_bez_Class.values)\n",
    "\n",
    "# sonar_y i sonar_X moraju biti np.array jer fja split prima samo objekte tog tipa\n",
    "\n",
    "# shuffle\n",
    "\n",
    "random_state = 42\n",
    "# fiksiranje broja random state omogućuje da svaki put kada opet runamo ovaj kod, dobijemo istu podjelu na subsetove\n",
    "# ovaj broj kojim fiksiramo odabran je nasumično\n",
    "\n",
    "X,y = shuffle(sonar_X,sonar_y,random_state=random_state)\n",
    "\n",
    "from sklearn.model_selection import RepeatedStratifiedKFold\n",
    "\n",
    "random_state = 164981614\n",
    "\n",
    "rskf = RepeatedStratifiedKFold(n_splits=10, n_repeats=1, random_state=random_state)\n",
    "\n",
    "X_train, X_test, y_train, y_test = [], [], [], []\n",
    "\n",
    "for train_index, test_index in rskf.split(X, y):\n",
    "    X_train.append(X[train_index])\n",
    "    X_test.append(X[test_index])\n",
    "    y_train.append(y[train_index])\n",
    "    y_test.append(y[test_index])"
   ]
  },
  {
   "cell_type": "code",
   "execution_count": null,
   "metadata": {
    "collapsed": true
   },
   "outputs": [],
   "source": [
    "# https://automl.github.io/auto-sklearn/stable/api.html\n",
    "# popis argumenata za fju autosklearnclassifier \n",
    "\n",
    "import autosklearn.classification\n",
    "import sklearn.model_selection\n",
    "from sklearn.metrics import accuracy_score, confusion_matrix"
   ]
  },
  {
   "cell_type": "code",
   "execution_count": null,
   "metadata": {
    "scrolled": true
   },
   "outputs": [],
   "source": [
    "automl = autosklearn.classification.AutoSklearnClassifier()\n",
    "rjecnik = {}\n",
    "acc = []\n",
    "t0 = time()\n",
    "    \n",
    "for i in range(10):\n",
    "    automl.fit(X_train[i], y_train[i])\n",
    "    y_pred = automl.predict(X_test[i])\n",
    "    acc_score = accuracy_score(y_test[i], y_pred)\n",
    "    acc.append(acc_score)\n",
    "    conf_mat = confusion_matrix(y_test[i],y_pred)\n",
    "    rjecnik[i+1] = (acc_score, conf_mat[1][1], conf_mat[0][1], conf_mat[1][0], conf_mat[0][0])\n",
    "    print(\"i =\", i+1)\n",
    "    print(automl.sprint_statistics(), \"\\n\\n\")\n",
    "\n",
    "print(\"done in %0.3fs\" % (time() - t0))"
   ]
  },
  {
   "cell_type": "code",
   "execution_count": null,
   "metadata": {},
   "outputs": [],
   "source": [
    "print(\"Rezultati dobiveni koristeći autosklearn:\\n\")\n",
    "df = pd.DataFrame(rjecnik, index=['accuracy', 'TP', 'FP', 'FN', 'TN'])\n",
    "print(df)\n",
    "\n",
    "avg_accuracy = np.average(acc)\n",
    "print(\"\\nProsječna točnost dobivena koristeći autosklearn je:\\n\", \n",
    "      avg_accuracy*100, \"%.\")"
   ]
  },
  {
   "cell_type": "code",
   "execution_count": null,
   "metadata": {
    "collapsed": true
   },
   "outputs": [],
   "source": []
  }
 ],
 "metadata": {
  "kernelspec": {
   "display_name": "Python 3",
   "language": "python",
   "name": "python3"
  },
  "language_info": {
   "codemirror_mode": {
    "name": "ipython",
    "version": 3
   },
   "file_extension": ".py",
   "mimetype": "text/x-python",
   "name": "python",
   "nbconvert_exporter": "python",
   "pygments_lexer": "ipython3",
   "version": "3.6.2"
  }
 },
 "nbformat": 4,
 "nbformat_minor": 2
}
