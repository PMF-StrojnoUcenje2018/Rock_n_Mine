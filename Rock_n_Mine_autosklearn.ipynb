{
 "cells": [
  {
   "cell_type": "code",
   "execution_count": null,
   "metadata": {
    "collapsed": true
   },
   "outputs": [],
   "source": [
    "import pandas as pd\n",
    "import matplotlib.pyplot as plt\n",
    "import numpy as np\n",
    "from sklearn.utils import shuffle\n",
    "from sklearn.decomposition import PCA"
   ]
  },
  {
   "cell_type": "code",
   "execution_count": null,
   "metadata": {
    "collapsed": true
   },
   "outputs": [],
   "source": [
    "# Učitamo dataset i dodijelimo imena stupcima\n",
    "\n",
    "url = \"https://archive.ics.uci.edu/ml/machine-learning-databases/undocumented/connectionist-bench/sonar/sonar.all-data\"\n",
    "\n",
    "colNames = []\n",
    "for i in range(60):\n",
    "    colNames.append(i+1)\n",
    "colNames.append(\"Class\")\n",
    "\n",
    "sonar = pd.read_csv(url,names=colNames,header=None)"
   ]
  },
  {
   "cell_type": "code",
   "execution_count": null,
   "metadata": {
    "collapsed": true
   },
   "outputs": [],
   "source": [
    "rock = sonar.loc[ sonar['Class'] == 'R', : ]\n",
    "mine = sonar.loc[ sonar['Class'] == 'M', : ]\n",
    "\n",
    "sonar_y = [] # target array (niz čiji elementi govore je li odgovarajući element tog indexa u datasetu sonar R ili M)\n",
    "for i in range(97):\n",
    "    sonar_y.append(0) # 0 označavaju R\n",
    "for i in range(111):\n",
    "    sonar_y.append(1) # 1 označavaju M\n",
    "sonar_y = np.array(sonar_y)\n",
    "\n",
    "sonar_bez_Class = sonar.drop('Class', axis=1) # uklonimo zadnji stupac Class iz sonar dataframea\n",
    "sonar_X = np.array(sonar_bez_Class.values)\n",
    "\n",
    "# sonar_y i sonar_X moraju biti np.array jer fja split prima samo objekte tog tipa\n",
    "\n",
    "# shuffle\n",
    "\n",
    "random_state = 42\n",
    "# fiksiranje broja random state omogućuje da svaki put kada opet runamo ovaj kod, dobijemo istu podjelu na subsetove\n",
    "# ovaj broj kojim fiksiramo odabran je nasumično\n",
    "\n",
    "X,y = shuffle(sonar_X,sonar_y,random_state=random_state)\n",
    "\n",
    "from sklearn.model_selection import RepeatedStratifiedKFold\n",
    "\n",
    "random_state = 164981614\n",
    "\n",
    "rskf = RepeatedStratifiedKFold(n_splits=10, n_repeats=1, random_state=random_state)\n",
    "\n",
    "X_train, X_test, y_train, y_test = [], [], [], []\n",
    "\n",
    "for train_index, test_index in rskf.split(X, y):\n",
    "    X_train.append(X[train_index])\n",
    "    X_test.append(X[test_index])\n",
    "    y_train.append(y[train_index])\n",
    "    y_test.append(y[test_index])"
   ]
  },
  {
   "cell_type": "code",
   "execution_count": 24,
   "metadata": {
    "collapsed": true
   },
   "outputs": [],
   "source": [
    "# https://automl.github.io/auto-sklearn/stable/api.html\n",
    "# popis argumenata za fju autosklearnclassifier \n",
    "\n",
    "import autosklearn.classification\n",
    "import sklearn.model_selection\n",
    "import sklearn.metrics"
   ]
  },
  {
   "cell_type": "code",
   "execution_count": null,
   "metadata": {
    "scrolled": true
   },
   "outputs": [
    {
     "name": "stderr",
     "output_type": "stream",
     "text": [
      "Process pynisher function call:\n",
      "Traceback (most recent call last):\n",
      "  File \"/home/monika/anaconda3/lib/python3.6/multiprocessing/process.py\", line 258, in _bootstrap\n",
      "    self.run()\n",
      "  File \"/home/monika/anaconda3/lib/python3.6/multiprocessing/process.py\", line 93, in run\n",
      "    self._target(*self._args, **self._kwargs)\n",
      "  File \"/home/monika/anaconda3/lib/python3.6/site-packages/pynisher/limit_function_call.py\", line 83, in subprocess_func\n",
      "    return_value = ((func(*args, **kwargs), 0))\n",
      "  File \"/home/monika/anaconda3/lib/python3.6/site-packages/autosklearn/ensemble_builder.py\", line 146, in main\n",
      "    time.sleep(2)\n",
      "KeyboardInterrupt\n",
      "Process pynisher function call:\n",
      "Traceback (most recent call last):\n",
      "  File \"/home/monika/anaconda3/lib/python3.6/multiprocessing/process.py\", line 258, in _bootstrap\n",
      "    self.run()\n",
      "  File \"/home/monika/anaconda3/lib/python3.6/multiprocessing/process.py\", line 93, in run\n",
      "    self._target(*self._args, **self._kwargs)\n",
      "  File \"/home/monika/anaconda3/lib/python3.6/site-packages/pynisher/limit_function_call.py\", line 83, in subprocess_func\n",
      "    return_value = ((func(*args, **kwargs), 0))\n",
      "  File \"/home/monika/anaconda3/lib/python3.6/site-packages/autosklearn/evaluation/__init__.py\", line 25, in fit_predict_try_except_decorator\n",
      "    return ta(queue=queue, **kwargs)\n",
      "  File \"/home/monika/anaconda3/lib/python3.6/site-packages/autosklearn/evaluation/train_evaluator.py\", line 437, in eval_holdout\n",
      "    evaluator.fit_predict_and_loss(iterative=iterative)\n",
      "  File \"/home/monika/anaconda3/lib/python3.6/site-packages/autosklearn/evaluation/train_evaluator.py\", line 105, in fit_predict_and_loss\n",
      "    i, train_indices=train_split, test_indices=test_split\n",
      "  File \"/home/monika/anaconda3/lib/python3.6/site-packages/autosklearn/evaluation/train_evaluator.py\", line 288, in _partial_fit_and_predict\n",
      "    self.Y_train[train_indices])\n",
      "  File \"/home/monika/anaconda3/lib/python3.6/site-packages/autosklearn/evaluation/abstract_evaluator.py\", line 372, in _fit_and_suppress_warnings\n",
      "    model.fit(X, y)\n",
      "  File \"/home/monika/anaconda3/lib/python3.6/site-packages/autosklearn/pipeline/base.py\", line 93, in fit\n",
      "    self.fit_estimator(X, y, **fit_params)\n",
      "  File \"/home/monika/anaconda3/lib/python3.6/site-packages/autosklearn/pipeline/base.py\", line 110, in fit_estimator\n",
      "    self._final_estimator.fit(X, y, **fit_params)\n",
      "  File \"/home/monika/anaconda3/lib/python3.6/site-packages/autosklearn/pipeline/components/base.py\", line 380, in fit\n",
      "    return self.choice.fit(X, y, **kwargs)\n",
      "  File \"/home/monika/anaconda3/lib/python3.6/site-packages/autosklearn/pipeline/components/classification/lda.py\", line 48, in fit\n",
      "    self.estimator.fit(X, Y)\n",
      "  File \"/home/monika/anaconda3/lib/python3.6/site-packages/sklearn/discriminant_analysis.py\", line 457, in fit\n",
      "    self._solve_lsqr(X, y, shrinkage=self.shrinkage)\n",
      "  File \"/home/monika/anaconda3/lib/python3.6/site-packages/sklearn/discriminant_analysis.py\", line 294, in _solve_lsqr\n",
      "    self.coef_ = linalg.lstsq(self.covariance_, self.means_.T)[0].T\n",
      "  File \"/home/monika/anaconda3/lib/python3.6/site-packages/scipy/linalg/basic.py\", line 1236, in lstsq\n",
      "    iwork, cond, False, False)\n",
      "KeyboardInterrupt\n"
     ]
    }
   ],
   "source": [
    "automl = autosklearn.classification.AutoSklearnClassifier()\n",
    "rjecnik = {}\n",
    "acc = []\n",
    "t0 = time()\n",
    "    \n",
    "for i in range(10):\n",
    "    automl.fit(X_train[i], y_train[i])\n",
    "    y_pred = automl.predict(X_test[i])\n",
    "    acc_score = accuracy_score(y_test[i], y_pred)\n",
    "    acc.append(acc_score)\n",
    "    conf_mat = confusion_matrix(y_test[i],y_pred, conf_mat[0][0], conf_mat[0][1], conf_mat[1][0], conf_mat[1][1]))\n",
    "    rjecnik[i+1] = (acc_score)\n",
    "    print(\"i =\", i+1)\n",
    "    print(automl.sprint_statistics(), \"\\n\\n\")\n",
    "\n",
    "print(\"done in %0.3fs\" % (time() - t0))"
   ]
  },
  {
   "cell_type": "code",
   "execution_count": null,
   "metadata": {
    "collapsed": true
   },
   "outputs": [],
   "source": [
    "print(\"Rezultati dobiveni koristeći autosklearn:\\n\")\n",
    "df = pd.DataFrame(rjecnik, index=['score', 'C', 'gamma', 'accuracy', 'TP', 'FP', 'FN', 'TN'])\n",
    "print(df.round(2))\n",
    "\n",
    "avg_accuracy = np.average(acc)\n",
    "print(\"\\nProsječna točnost dobivena koristeći autosklearn je:\\n\", \n",
    "      avg_accuracy*100, \"%.\")"
   ]
  }
 ],
 "metadata": {
  "kernelspec": {
   "display_name": "Python 3",
   "language": "python",
   "name": "python3"
  },
  "language_info": {
   "codemirror_mode": {
    "name": "ipython",
    "version": 3
   },
   "file_extension": ".py",
   "mimetype": "text/x-python",
   "name": "python",
   "nbconvert_exporter": "python",
   "pygments_lexer": "ipython3",
   "version": "3.6.2"
  }
 },
 "nbformat": 4,
 "nbformat_minor": 2
}
